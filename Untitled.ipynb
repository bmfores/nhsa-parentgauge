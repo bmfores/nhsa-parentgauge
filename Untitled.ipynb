{
 "cells": [
  {
   "cell_type": "code",
   "execution_count": 5,
   "id": "217cbffb-97aa-431f-a59f-e2643790a016",
   "metadata": {},
   "outputs": [],
   "source": [
    "data <- read.csv('../data/intv_data.csv')"
   ]
  },
  {
   "cell_type": "code",
   "execution_count": 7,
   "id": "f616eb93-4b02-480e-b8ef-ad87e1666b52",
   "metadata": {},
   "outputs": [
    {
     "name": "stderr",
     "output_type": "stream",
     "text": [
      "\n",
      "\n",
      "processing file: diagnosis_temp.Rmd\n",
      "\n"
     ]
    },
    {
     "name": "stdout",
     "output_type": "stream",
     "text": [
      "                                                                                                                                  (load_packages)                                   (get-parameters)                                  (unnamed-chunk-1)                                 (diagose)                                         (create-overview)                                 (overview)                                        (overview-datastructure)                          (overview-pre)                                    (overview-warnings)                               (warnings_summary)                                (warnings)                                        (overview-variables)                              (variables)                                       (missing)                                         (missing-list)                                    (missing-data)                                    (missing-visualization)                           (missing-viz2)                                    (unique)                                          (unique-categorical)                              (unique-date-category)                            (unique-numerical)                                (unique-data-numeric)                             (outliers)                                        (outliers-list)                                   (samples)                                         (duplicated)                                      (duplicated-list)                                 (heades)                                          (sample-head)                                     (tails)                                           (sample-tail)                                    \n"
     ]
    },
    {
     "name": "stderr",
     "output_type": "stream",
     "text": [
      "output file: diagnosis_temp.knit.md\n",
      "\n",
      "\n"
     ]
    },
    {
     "name": "stdout",
     "output_type": "stream",
     "text": [
      "/opt/homebrew/bin/pandoc +RTS -K512m -RTS diagnosis_temp.knit.md --to html4 --from markdown+autolink_bare_uris+tex_math_single_backslash --output /var/folders/vw/1sthm_ts1dj_1hqg1xnsz19w0000gn/T//RtmpAF0cLp/Diagnosis_Report.html --lua-filter /Library/Frameworks/R.framework/Versions/4.2-arm64/Resources/library/rmarkdown/rmarkdown/lua/pagebreak.lua --lua-filter /Library/Frameworks/R.framework/Versions/4.2-arm64/Resources/library/rmarkdown/rmarkdown/lua/latex-div.lua --embed-resources --standalone --variable bs3=TRUE --section-divs --template /Library/Frameworks/R.framework/Versions/4.2-arm64/Resources/library/rmarkdown/rmd/h/default.html --no-highlight --variable highlightjs=1 --variable theme=bootstrap --css /Library/Frameworks/R.framework/Versions/4.2-arm64/Resources/library/dlookr/resources/dlookr-bootstrap.css --mathjax --variable 'mathjax-url=https://mathjax.rstudio.com/latest/MathJax.js?config=TeX-AMS-MML_HTMLorMML' --include-in-header /var/folders/vw/1sthm_ts1dj_1hqg1xnsz19w0000gn/T//RtmpAF0cLp/rmarkdown-str3c1046f1d355.html --variable code_folding=show --variable code_menu=1 --include-in-header header_temp.html --include-after-body /Library/Frameworks/R.framework/Versions/4.2-arm64/Resources/library/dlookr/resources/footer.html \n"
     ]
    },
    {
     "name": "stderr",
     "output_type": "stream",
     "text": [
      "\n",
      "Output created: /var/folders/vw/1sthm_ts1dj_1hqg1xnsz19w0000gn/T//RtmpAF0cLp/Diagnosis_Report.html\n",
      "\n",
      "\n",
      "\n",
      "processing file: eda_temp.Rmd\n",
      "\n"
     ]
    },
    {
     "name": "stdout",
     "output_type": "stream",
     "text": [
      "  |.........................                         |  51%                     (setup)                                 (load_packages)                         (unnamed-chunk-1)                       (udf)                                   (check_variables)                       (create-overview)                       (overview)                              (overview-pre)                          (unnamed-chunk-2)                       (unnamed-chunk-3)                       (variables)                             (normality)                             (normality-list)                        (unnamed-chunk-4)                       (unnamed-chunk-5)                      "
     ]
    },
    {
     "name": "stderr",
     "output_type": "stream",
     "text": [
      "Quitting from lines 298-301 (eda_temp.Rmd) \n",
      "\n"
     ]
    },
    {
     "ename": "ERROR",
     "evalue": "\u001b[1m\u001b[33mError\u001b[39m in `map2()`:\u001b[22m\n\u001b[1m\u001b[22m\u001b[36mℹ\u001b[39m In index: 86.\n\u001b[1mCaused by error in `lm.fit()`:\u001b[22m\n\u001b[33m!\u001b[39m 0 (non-NA) cases\n",
     "output_type": "error",
     "traceback": [
      "\u001b[1m\u001b[33mError\u001b[39m in `map2()`:\u001b[22m\n\u001b[1m\u001b[22m\u001b[36mℹ\u001b[39m In index: 86.\n\u001b[1mCaused by error in `lm.fit()`:\u001b[22m\n\u001b[33m!\u001b[39m 0 (non-NA) cases\nTraceback:\n",
      "1. eda_web_report(data, output_format = \"html\")",
      "2. eda_web_report.data.frame(data, output_format = \"html\")",
      "3. rmarkdown::render(paste(path, rmd, sep = \"/\"), output_file = output_file)",
      "4. knitr::knit(knit_input, knit_output, envir = envir, quiet = quiet)",
      "5. process_file(text, output)",
      "6. withCallingHandlers(if (tangle) process_tangle(group) else process_group(group), \n .     error = function(e) {\n .         setwd(wd)\n .         cat(res, sep = \"\\n\", file = output %n% \"\")\n .         message(\"Quitting from lines \", paste(current_lines(i), \n .             collapse = \"-\"), \" (\", knit_concord$get(\"infile\"), \n .             \") \")\n .     })",
      "7. process_group(group)",
      "8. process_group.block(group)",
      "9. call_block(x)",
      "10. block_exec(params)",
      "11. eng_r(options)",
      "12. in_input_dir(evaluate(code, envir = env, new_device = FALSE, \n  .     keep_warning = if (is.numeric(options$warning)) TRUE else options$warning, \n  .     keep_message = if (is.numeric(options$message)) TRUE else options$message, \n  .     stop_on_error = if (is.numeric(options$error)) options$error else {\n  .         if (options$error && options$include) \n  .             0L\n  .         else 2L\n  .     }, output_handler = knit_handlers(options$render, options)))",
      "13. in_dir(input_dir(), expr)",
      "14. evaluate(code, envir = env, new_device = FALSE, keep_warning = if (is.numeric(options$warning)) TRUE else options$warning, \n  .     keep_message = if (is.numeric(options$message)) TRUE else options$message, \n  .     stop_on_error = if (is.numeric(options$error)) options$error else {\n  .         if (options$error && options$include) \n  .             0L\n  .         else 2L\n  .     }, output_handler = knit_handlers(options$render, options))",
      "15. evaluate::evaluate(...)",
      "16. evaluate_call(expr, parsed$src[[i]], envir = envir, enclos = enclos, \n  .     debug = debug, last = i == length(out), use_try = stop_on_error != \n  .         2L, keep_warning = keep_warning, keep_message = keep_message, \n  .     output_handler = output_handler, include_timing = include_timing)",
      "17. timing_fn(handle(ev <- withCallingHandlers(withVisible(eval_with_user_handlers(expr, \n  .     envir, enclos, user_handlers)), warning = wHandler, error = eHandler, \n  .     message = mHandler)))",
      "18. handle(ev <- withCallingHandlers(withVisible(eval_with_user_handlers(expr, \n  .     envir, enclos, user_handlers)), warning = wHandler, error = eHandler, \n  .     message = mHandler))",
      "19. withCallingHandlers(withVisible(eval_with_user_handlers(expr, \n  .     envir, enclos, user_handlers)), warning = wHandler, error = eHandler, \n  .     message = mHandler)",
      "20. withVisible(eval_with_user_handlers(expr, envir, enclos, user_handlers))",
      "21. eval_with_user_handlers(expr, envir, enclos, user_handlers)",
      "22. eval(expr, envir, enclos)",
      "23. eval(expr, envir, enclos)",
      "24. html_compare_numerical(reportData, base_family = base_family)",
      "25. compare_numeric(.data)",
      "26. compare_numeric.data.frame(.data)",
      "27. compare_numeric_impl(.data, vars)",
      "28. purrr::map2_dfr(x, y, get_lm)",
      "29. map2(.x, .y, .f, ...)",
      "30. map2_(\"list\", .x, .y, .f, ..., .progress = .progress)",
      "31. with_indexed_errors(i = i, names = names, error_call = .purrr_error_call, \n  .     call_with_cleanup(map2_impl, environment(), .type, .progress, \n  .         n, names, i))",
      "32. withCallingHandlers(expr, error = function(cnd) {\n  .     if (i == 0L) {\n  .     }\n  .     else {\n  .         message <- c(i = \"In index: {i}.\")\n  .         if (!is.null(names) && !is.na(names[[i]]) && names[[i]] != \n  .             \"\") {\n  .             name <- names[[i]]\n  .             message <- c(message, i = \"With name: {name}.\")\n  .         }\n  .         else {\n  .             name <- NULL\n  .         }\n  .         cli::cli_abort(message, location = i, name = name, parent = cnd, \n  .             call = error_call, class = \"purrr_error_indexed\")\n  .     }\n  . })",
      "33. call_with_cleanup(map2_impl, environment(), .type, .progress, \n  .     n, names, i)",
      "34. .f(.x[[i]], .y[[i]], ...)",
      "35. df %>% select({\n  .     {\n  .         x\n  .     }\n  . }, {\n  .     {\n  .         y\n  .     }\n  . }) %>% lm(lm_formula, data = .) %>% get_tab_lm()",
      "36. get_tab_lm(.)",
      "37. summary(x)",
      "38. lm(lm_formula, data = .)",
      "39. lm.fit(x, y, offset = offset, singular.ok = singular.ok, ...)",
      "40. stop(\"0 (non-NA) cases\")",
      "41. .handleSimpleError(function (cnd) \n  . {\n  .     if (i == 0L) {\n  .     }\n  .     else {\n  .         message <- c(i = \"In index: {i}.\")\n  .         if (!is.null(names) && !is.na(names[[i]]) && names[[i]] != \n  .             \"\") {\n  .             name <- names[[i]]\n  .             message <- c(message, i = \"With name: {name}.\")\n  .         }\n  .         else {\n  .             name <- NULL\n  .         }\n  .         cli::cli_abort(message, location = i, name = name, parent = cnd, \n  .             call = error_call, class = \"purrr_error_indexed\")\n  .     }\n  . }, \"0 (non-NA) cases\", base::quote(lm.fit(x, y, offset = offset, \n  .     singular.ok = singular.ok, ...)))",
      "42. h(simpleError(msg, call))",
      "43. cli::cli_abort(message, location = i, name = name, parent = cnd, \n  .     call = error_call, class = \"purrr_error_indexed\")",
      "44. rlang::abort(message, ..., call = call, use_cli_format = TRUE, \n  .     .frame = .frame)",
      "45. signal_abort(cnd, .file)"
     ]
    },
    {
     "name": "stdout",
     "output_type": "stream",
     "text": [
      "                                                                                                              \n"
     ]
    }
   ],
   "source": [
    "## Install package\n",
    "#install.packages('dlookr')\n",
    "## Load library\n",
    "library(dlookr)\n",
    "## Create diagnostic report\n",
    "diagnose_web_report(data, output_format = \"html\")\n",
    "## Create EDA report\n",
    "eda_web_report(data,output_format = \"html\")"
   ]
  },
  {
   "cell_type": "code",
   "execution_count": null,
   "id": "9824600c-dfde-4f96-be8e-f0ec64e539b9",
   "metadata": {},
   "outputs": [],
   "source": [
    "## Install package\n",
    "#install.packages(\"dataMaid\")\n",
    "## Import library\n",
    "library(dataMaid)\n",
    "## Create report\n",
    "makeDataReport(data, output = \"html\", replace = TRUE)"
   ]
  },
  {
   "cell_type": "code",
   "execution_count": null,
   "id": "c75fbd97-a7d0-4f46-a193-639d673e16fb",
   "metadata": {},
   "outputs": [],
   "source": [
    "## Install package\n",
    "install.packages(\"ExPanDaR\") \n",
    "## Import library\n",
    "library(ExPanDaR)\n",
    "## Create report\n",
    "ExPanD(data)"
   ]
  },
  {
   "cell_type": "code",
   "execution_count": null,
   "id": "95455b79-44a2-4c26-8c19-87788829c65e",
   "metadata": {},
   "outputs": [],
   "source": [
    "## Install package\n",
    "install.packages(\"DataExplorer\")\n",
    "## Import library\n",
    "library(DataExplorer)\n",
    "## Create report\n",
    "create_report(data)"
   ]
  },
  {
   "cell_type": "code",
   "execution_count": null,
   "id": "f21a4bbf-92f6-4e06-936e-237ead3a42d7",
   "metadata": {},
   "outputs": [],
   "source": [
    "## Install & load data.table\n",
    "install.packages(\"palmerpenguins\")\n",
    "library(palmerpenguins)\n",
    "data = penguins"
   ]
  }
 ],
 "metadata": {
  "kernelspec": {
   "display_name": "R",
   "language": "R",
   "name": "ir"
  },
  "language_info": {
   "codemirror_mode": "r",
   "file_extension": ".r",
   "mimetype": "text/x-r-source",
   "name": "R",
   "pygments_lexer": "r",
   "version": "4.2.2"
  }
 },
 "nbformat": 4,
 "nbformat_minor": 5
}
