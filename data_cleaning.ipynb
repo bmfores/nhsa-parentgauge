{
 "cells": [
  {
   "cell_type": "markdown",
   "id": "f266bcaa",
   "metadata": {},
   "source": [
    "<div style=\"display: inline-block;\">\n",
    "    <img src=\"images/nhsa_logo.png\" alt=\"Image\" style=\"text-align: left;\">\n",
    "</div>\n",
    "\n",
    "# Parent Gauge Data Analysis Project\n",
    "---\n",
    "## Data Wrangling Script and Documentation\n",
    "\n",
    "In this script, we will provide a step-by-step demonstration of how script is being cleaned. "
   ]
  },
  {
   "cell_type": "code",
   "execution_count": 2,
   "id": "ada7c4d0",
   "metadata": {
    "editable": true,
    "slideshow": {
     "slide_type": ""
    },
    "tags": []
   },
   "outputs": [],
   "source": [
    "# Start with the necessary imports\n",
    "import pandas as pd\n",
    "import numpy as np\n",
    "import re\n",
    "import datetime\n",
    "from dateutil.relativedelta import relativedelta\n",
    "from tabulate import tabulate\n",
    "from prettytable import PrettyTable\n",
    "from rich.console import Console\n",
    "from rich.table import Table\n",
    "\n",
    "# uses old version of google trans: pip3 install googletrans==3.1.0a0\n",
    "from googletrans import Translator\n",
    "\n",
    "# Utility function for gender imputation - DISCLAIMER: Sensitivity and Accuracy Considerations\n",
    "# This function is intended for filling in missing gender values for statistical purposes only.\n",
    "# Please note that gender imputation methods may not accurately reflect an individual's gender identity.\n",
    "# Use caution and sensitivity when interpreting or applying these imputed values.\n",
    "import gender_guesser.detector as gender\n",
    "from genderize import Genderize\n",
    "\n",
    "#utilize a Named Entity Recognition (NER) library to detect and remove named entities like names\n",
    "import spacy\n",
    "\n",
    "#nltk\n",
    "from nltk.corpus import stopwords\n",
    "from nltk.tokenize import word_tokenize"
   ]
  },
  {
   "cell_type": "code",
   "execution_count": 4,
   "id": "16e3169b-daad-48f6-81b5-7b2f4e85e62b",
   "metadata": {},
   "outputs": [],
   "source": [
    "#Load the Data into the dataframe\n",
    "df = pd.read_excel('../data/INTVDATA.xlsx', sheet_name ='Main', engine ='openpyxl')\n",
    "\n",
    "#Copy existing dataframe to .csv file\n",
    "df.to_csv('../data/intv_data.csv', index=False)"
   ]
  },
  {
   "cell_type": "code",
   "execution_count": 5,
   "id": "880529ca",
   "metadata": {},
   "outputs": [
    {
     "name": "stderr",
     "output_type": "stream",
     "text": [
      "/var/folders/vw/1sthm_ts1dj_1hqg1xnsz19w0000gn/T/ipykernel_36159/4054036919.py:2: DtypeWarning: Columns (13,18,20,30,38,43,44,45,46,47,48,49,50,51,52,53,54,55,56,57,58,59,60,61,62,63,64,65,66,67,68,69,70,71,72,73,74,75,76,77,78,79,80,81,82,83,84,85,86,87,88,89,90,91,92,95) have mixed types. Specify dtype option on import or set low_memory=False.\n",
      "  df = pd.read_csv('../data/intv_data.csv')\n"
     ]
    }
   ],
   "source": [
    "#read the new .csv file\n",
    "df = pd.read_csv('../data/intv_data.csv')"
   ]
  },
  {
   "cell_type": "markdown",
   "id": "248b43f5",
   "metadata": {},
   "source": [
    "---------"
   ]
  },
  {
   "cell_type": "markdown",
   "id": "efb847af-89c4-4385-b576-a29fd0615f11",
   "metadata": {
    "editable": true,
    "slideshow": {
     "slide_type": ""
    },
    "tags": []
   },
   "source": [
    "## Drop Duplicate Rows\n",
    "\n",
    "A majority of the duplicate rows in the parent gauge dataset involve rows that are duplicates of the header row. We will use a random variable such as 'date' and remove rows that equal the name of the variable. Afterwards, we will drop additional duplicates, if any. "
   ]
  },
  {
   "cell_type": "code",
   "execution_count": 6,
   "id": "b05f7da0-19b2-4c92-bfef-9e340735cb8d",
   "metadata": {},
   "outputs": [
    {
     "name": "stdout",
     "output_type": "stream",
     "text": [
      "Number of duplicate rows dropped: 204\n"
     ]
    }
   ],
   "source": [
    "# To make sure all duplicate \"header\" rows are eliminated, we pick a random column,\n",
    "# remove rows where 'date' column is equal to 'date', except the first row\n",
    "# Initialize a counter for deleted rows\n",
    "deleted_date_rows = 0\n",
    "\n",
    "# Iterate over the rows of the DataFrame\n",
    "for i, row in df.iterrows():\n",
    "    if row['date'] == 'date':\n",
    "        # Remove the row if the date matches\n",
    "        df.drop(i, inplace=True)\n",
    "        deleted_date_rows += 1\n",
    "\n",
    "# Count the number of rows before dropping duplicates\n",
    "rows_before = len(df)\n",
    "\n",
    "# Drop duplicate rows based on all columns except the first two, since they are indexed\n",
    "result = df.drop_duplicates(subset=df.columns[2:])\n",
    "        \n",
    "# Count the number of rows after dropping duplicates\n",
    "rows_after = len(result)\n",
    "\n",
    "# Calculate and print the number of rows dropped\n",
    "rows_dropped = (rows_before - rows_after) + deleted_date_rows\n",
    "print(f\"Number of duplicate rows dropped: {rows_dropped}\")\n",
    "\n",
    "#Copy existing dataframe to .csv file\n",
    "df.to_csv('../data/intv_data.csv', index=False)"
   ]
  },
  {
   "cell_type": "markdown",
   "id": "85aefeac-e571-4881-8a0a-ab1a8b21ad62",
   "metadata": {},
   "source": [
    "## Sample Data Frame Generation\n",
    "\n",
    "Note: You can run this code again if you would like to reset the sample dataset."
   ]
  },
  {
   "cell_type": "code",
   "execution_count": 24,
   "id": "fdede69d",
   "metadata": {},
   "outputs": [
    {
     "name": "stdout",
     "output_type": "stream",
     "text": [
      "Created a sample of 10% of the total dataset\n"
     ]
    }
   ],
   "source": [
    "#Because the main dataset is too large for data cleaning, \n",
    "#construct a small sample for faster processing. Once I am done coding, we will use the entire dataset.\n",
    "df_sample = df.sample(frac=0.1)\n",
    "df_sample.to_csv('../data/sample_data.csv', index=False)\n",
    "\n",
    "print(\"Created a sample of 10% of the total dataset\")"
   ]
  },
  {
   "cell_type": "markdown",
   "id": "bfc37ee6",
   "metadata": {},
   "source": [
    "## Main Data Cleaning\n",
    "\n",
    "This is a summary of all the data cleaning and reformatting steps that were conducted.\n",
    "- **Program** - I identified the corresponding state and county."
   ]
  },
  {
   "cell_type": "markdown",
   "id": "d067236d-26f6-4dcf-98b9-e9b68751588b",
   "metadata": {},
   "source": [
    "# Code to Clean\n",
    "\n",
    "This section examines each variable and transforms and cleans them accordingly."
   ]
  },
  {
   "cell_type": "markdown",
   "id": "1ce77e40-2bab-49b2-b109-695cd4b10243",
   "metadata": {},
   "source": [
    "## Center\n",
    "\n",
    "For the center, we want to correspond each center to their respective state and geographic location for future analyses."
   ]
  },
  {
   "cell_type": "code",
   "execution_count": 36,
   "id": "36f9bef9",
   "metadata": {},
   "outputs": [],
   "source": [
    "unique_centers = df_sample['center'].unique().tolist()\n",
    "\n",
    "# Sort the list in place\n",
    "unique_centers.sort()\n",
    "\n",
    "#create a text file of the unique programs\n",
    "with open('../data/unique_centers.txt', 'w') as f:\n",
    "    for item in unique_centers:\n",
    "        f.write(\"%s\\n\" % item)"
   ]
  },
  {
   "cell_type": "markdown",
   "id": "04603ece-23cd-4ff9-aa5d-daee20bde4de",
   "metadata": {},
   "source": [
    "## Date\n",
    "\n",
    "Here, we will break down the date into three columns, seperating the year, month, and day. This code performs data cleaning on a column called 'date' in the dataset. It first checks each entry in the column for any errors in the date format, printing an error message if any are found. Then, it converts the 'date' column to a standard datetime format and creates new columns for the year, month, and day extracted from the dates. Finally, the cleaned data is saved to a CSV file. This code ensures that the dates are properly formatted, allows for easy analysis based on different time periods, and provides a clean dataset for further use."
   ]
  },
  {
   "cell_type": "code",
   "execution_count": 133,
   "id": "d038ea4f-35ab-4536-b01a-dc45116dd253",
   "metadata": {},
   "outputs": [],
   "source": [
    "## FIX ERRONEOUS DATES\n",
    "# TIP: There are less than 100 erroneous rows, 96%, or most of the, 'date' entries match the same year as 'created_at'\n",
    "# If the 'date' year is deemed to be erroneous, replace the 'date' year with the 'created_at' year instead\n",
    "\n",
    "# Convert 'created_at' and 'date' columns to datetime format\n",
    "df_sample['created_at'] = pd.to_datetime(df_sample['created_at'], errors='coerce')\n",
    "df_sample['date'] = pd.to_datetime(df_sample['date'], errors='coerce')\n",
    "\n",
    "# Determine current year\n",
    "current_year = datetime.datetime.now().year\n",
    "\n",
    "# Define a function to replace the year of a given date with the year of 'created_at':\n",
    "def replace_year(row):\n",
    "    # Extract the years\n",
    "    date_year = row['date'].year\n",
    "    created_at_year = row['created_at'].year\n",
    "    \n",
    "    # Check if the year in 'date' is below 2016 or the current year\n",
    "    if date_year < 2016 or date_year > current_year:\n",
    "        # Replace the year part of 'date' with 'created_at' year\n",
    "        return row['date'].replace(year=created_at_year)\n",
    "    else:\n",
    "        return row['date']\n",
    "\n",
    "# NOTE: Since Parent Gauge was officially implemented in 2017, anything before 2016 and past the current year should probablybe considered erroneous\n",
    "# Identify erroneous dates where the year is below 2016 or above the current year\n",
    "# Apply custom function to DataFrame\n",
    "df_sample['date'] = df_sample.apply(replace_year, axis=1)\n",
    "\n",
    "#Copy existing dataframe to .csv file\n",
    "df_sample.to_csv('../data/sample_data.csv', index=False)"
   ]
  },
  {
   "cell_type": "code",
   "execution_count": 43,
   "id": "5e79c18f",
   "metadata": {},
   "outputs": [],
   "source": [
    "# SPLIT DATE INTO MONTH, DAY, AND YEAR\n",
    "# Iterate over the entries in the 'date' column\n",
    "for i, date in enumerate(df_sample['date']):\n",
    "    try:\n",
    "        # Try to convert the date to datetime format\n",
    "        pd.to_datetime(date, format='mixed')\n",
    "    except Exception:\n",
    "        print(f\"An error occurred at index {i} with the date: {date}\")\n",
    "        \n",
    "df_sample['date'] = pd.to_datetime(df_sample['date'], errors='coerce')\n",
    "\n",
    "# Create separate 'year', 'month', and 'day' columns\n",
    "df_sample['date_year'] = df_sample['date'].dt.year\n",
    "df_sample['date_month'] = df_sample['date'].dt.month\n",
    "df_sample['date_day'] = df_sample['date'].dt.day\n",
    "\n",
    "# save to csv\n",
    "df_sample.to_csv('../data/sample_data.csv', index=False)"
   ]
  },
  {
   "cell_type": "markdown",
   "id": "e2dea179-7f4f-4d83-8aea-1a15e8aabb91",
   "metadata": {},
   "source": [
    "## Evaluation Year\n",
    "\n",
    "The original format of the evaluation year was formatted as '2016-2017', for instance. For easier analysis, the start and end year have been split up into two columns, \"evaluation_start_year\" and \"evaluation_end_year.\" Moreover, we convert the new variables into a faster data type. Lastly, try to fix any erroneous years, then remove the rest."
   ]
  },
  {
   "cell_type": "code",
   "execution_count": 156,
   "id": "70434815",
   "metadata": {},
   "outputs": [],
   "source": [
    "# Get the current year\n",
    "current_year = datetime.datetime.now().year\n",
    "\n",
    "# Split the 'evaluation_year' column into two separate columns 'start_year' and 'end_year'\n",
    "df[['evaluation_start_year', 'evaluation_end_year']] = df['evaluation_year'].str.split('-', expand=True)\n",
    "\n",
    "# Convert 'evaluation_start_year' and 'evaluation_end_year to int16, handling invalid values\n",
    "df['evaluation_start_year'] = pd.to_numeric(df['evaluation_start_year'], errors='coerce').astype('Int16')\n",
    "df['evaluation_end_year'] = pd.to_numeric(df['evaluation_end_year'], errors='coerce').astype('Int16')\n",
    "\n",
    "# Create intermediate 'student_enrollment_date_' column to datetime, in preparation for referencing\n",
    "df['student_enrollment_date_temp'] = pd.to_datetime(df['student_enrollment_date'], format='mixed', errors='coerce')\n",
    "\n",
    "# NOTE: Parent guage officially started in 2017, so years far from that range are erroneous.\n",
    "# FIX errneous rows that were supposed to be a valid year\n",
    "# Store the indices of rows with updated evaluation_start_year\n",
    "updated_indices = df[(df['evaluation_start_year'] < 2016) | (df['evaluation_start_year'] > current_year)].index\n",
    "\n",
    "# Update evaluation_start_year based on evaluation and student_enrollment_date, which is less erroneous\n",
    "df.loc[df['evaluation_start_year'] < 2016, 'evaluation_start_year'] = df.loc[df['evaluation_start_year'] < 2016].apply(\n",
    "    lambda row: row['student_enrollment_date_temp'].year if row['evaluation'] == 'Initial' else row['student_enrollment_date_temp'].year + 1, axis=1\n",
    ")\n",
    "\n",
    "df.loc[df['evaluation_start_year'] > current_year, 'evaluation_start_year'] = df.loc[df['evaluation_start_year'] > current_year].apply(\n",
    "    lambda row: row['student_enrollment_date_temp'].year if row['evaluation'] == 'Initial' else row['student_enrollment_date_temp'].year + 1, axis=1\n",
    ")\n",
    "\n",
    "# Update evaluation_end_year only for the updated rows\n",
    "df.loc[updated_indices, 'evaluation_end_year'] = df.loc[updated_indices, 'evaluation_start_year'] + 1\n",
    "\n",
    "# Clear erroneous values where 'evaluation_start_year' is below 2016 or above current_year\n",
    "df.loc[df['evaluation_start_year'] < 2016, ['evaluation_year', 'evaluation_start_year', 'evaluation_end_year']] = None\n",
    "df.loc[df['evaluation_start_year'] > current_year, ['evaluation_year', 'evaluation_start_year', 'evaluation_end_year']] = None\n",
    "\n",
    "# drop intermediate variable\n",
    "df = df.drop('student_enrollment_date_temp', axis=1)\n",
    "\n",
    "#copy updated dataframe to .csv file\n",
    "df.to_csv('../data/intv_data.csv', index=False)"
   ]
  },
  {
   "cell_type": "markdown",
   "id": "bfe3600a-9e0d-45bb-8b0d-dabedd5d447b",
   "metadata": {},
   "source": [
    "## Evaluation\n",
    "\n",
    "Dummy variables have been created, breaking the three categorical variables into three columns."
   ]
  },
  {
   "cell_type": "code",
   "execution_count": 48,
   "id": "fb51bf3e",
   "metadata": {},
   "outputs": [],
   "source": [
    "#use one-hot encoding to create dummy variables in preparation for regression.\n",
    "#WARNING: This, however eliminates the original 'evaluation' column\n",
    "df_sample = pd.get_dummies(df_sample, columns=['evaluation'])\n",
    "\n",
    "#drop excess 'evaluation_evaluation' column, if it exists.\n",
    "if 'evaluation_evaluation' in df_sample.columns:\n",
    "    df_sample.drop('evaluation_evaluation', axis=1, inplace=True)\n",
    "\n",
    "#save updates to csv\n",
    "df_sample.to_csv('../data/sample_data.csv', index=False)"
   ]
  },
  {
   "cell_type": "markdown",
   "id": "3c75ec11-d8cb-4c4b-8708-8ad9f2afa55e",
   "metadata": {},
   "source": [
    "## Guardian Enrollment Date\n",
    "\n",
    "Use this variable to determine how many years the parent has been in the parent gauge program.\n",
    "\n",
    "problem: 70% of guardian IDs have no enrollment date, but this is an important part of the analysis. need to retroactively determine what the enrollment date is. "
   ]
  },
  {
   "cell_type": "markdown",
   "id": "91308fcc-6658-46b1-8b79-e0d99dea5e2d",
   "metadata": {},
   "source": [
    "## Guardian, Hispanic\n",
    "\n",
    "There are missing values, but many other variables including the guardian's native language, student's native language, whether the student is hispanic, and what language the interview was used—to determine whether the guardian was hispanic."
   ]
  },
  {
   "cell_type": "code",
   "execution_count": 61,
   "id": "3cf8fc10-fd5d-4859-84e6-ea606898c1a3",
   "metadata": {},
   "outputs": [],
   "source": [
    "##remove anything that is not \"yes\" or \"no\"\n",
    "#reconcile \"dont know\" and \"refused\" values\n",
    "####pending...\n",
    "\n",
    "# Update the guardian_hispanic column\n",
    "df_sample.loc[~df_sample[\"guardian_hispanic\"].isin([\"Yes\", \"No\"]), \"guardian_hispanic\"] = \"\"\n",
    "\n",
    "#check the column \"guardian_native_language\" \"student_hispanic\", \n",
    "#\"student_native_language\", \"language of interview\", \n",
    "# Define a function to fill missing values in guardian_hispanic column based on conditions\n",
    "def fill_guardian_hispanic(row):\n",
    "    if pd.isnull(row['guardian_hispanic']) or row['guardian_hispanic'] not in ['Yes', 'No']:\n",
    "        if row['student_hispanic'] == 'Yes':\n",
    "            return 'Yes'\n",
    "        elif row['student_hispanic'] == 'No':\n",
    "            return 'No'\n",
    "        elif row['guardian_native_language'] == 'Spanish':\n",
    "            return 'Yes'\n",
    "        elif row['student_native_language'] == 'Spanish':\n",
    "            return 'Yes'\n",
    "        elif row['language'] == 'Spanish':\n",
    "            return 'Yes'\n",
    "        else:\n",
    "            return 'No'\n",
    "    else:\n",
    "        return row['guardian_hispanic']\n",
    "\n",
    "# Apply the function to fill missing values in guardian_hispanic column\n",
    "df_sample['guardian_hispanic'] = df_sample.apply(fill_guardian_hispanic, axis=1)\n",
    "\n",
    "# Convert \"yes\" and \"no\" to binary dummy variables\n",
    "df_sample['guardian_hispanic'] = df_sample['guardian_hispanic'].map({'Yes': True, 'No': False})\n",
    "\n",
    "# Write the updated data to a new CSV file\n",
    "df_sample.to_csv('../data/sample_data.csv', index=False)"
   ]
  },
  {
   "cell_type": "markdown",
   "id": "f6765367-b42f-4132-a26e-d852345480de",
   "metadata": {},
   "source": [
    "## Guardian Native Language\n",
    "\n",
    "7% of rows for guardian native language are missing, While the student's native language is not necessarily the same as the guardian's native language, we might be able to reference for statistical purposes. This will cut down missing to 2.5%. 91% are in English and almost 7% are in Spanish. Imputing the values does not drastically change the numbers. "
   ]
  },
  {
   "cell_type": "code",
   "execution_count": 93,
   "id": "1991b9b8-dabe-49c9-85ff-eee6f6b8bea2",
   "metadata": {},
   "outputs": [],
   "source": [
    "# Fill in missing values\n",
    "# Reference 'language' of interview', if interview was done in Spanish, assume guardian's native language is Spanish\n",
    "df.loc[df['guardian_native_language'].isnull() & (df['language'] == 'Spanish'), 'guardian_native_language'] = 'Spanish'\n",
    "\n",
    "# Then reference 'student_native_language' to fill in other missing values\n",
    "df['guardian_native_language'] = df['guardian_native_language'].fillna(df['student_native_language'])\n",
    "\n",
    "# Afterwards, reference 'guardian_id' as well\n",
    "df['guardian_native_language'] = df['guardian_native_language'].fillna(df.groupby('guardian_id')['guardian_native_language'].transform('first'))\n",
    "\n",
    "#Copy updated dataframe to .csv file\n",
    "df.to_csv('../data/intv_data.csv', index=False)"
   ]
  },
  {
   "cell_type": "code",
   "execution_count": null,
   "id": "40844216-d915-4367-a2da-f601964423ee",
   "metadata": {},
   "outputs": [],
   "source": [
    "# consider grouping remaining languages into one category"
   ]
  },
  {
   "cell_type": "markdown",
   "id": "83a92fbe-0191-4258-a1a7-5d4fa4b0e2f8",
   "metadata": {},
   "source": [
    "## Guardian Race\n",
    "\n",
    "tasks: "
   ]
  },
  {
   "cell_type": "code",
   "execution_count": 196,
   "id": "a2023b15-31c7-4641-ae65-4f4522f86c94",
   "metadata": {},
   "outputs": [],
   "source": [
    "# Group by guardian_id and fill missing values in guardian_race\n",
    "df['guardian_race'] = df.groupby('guardian_id')['guardian_race'].transform(lambda x: x.fillna(method='ffill').fillna(method='bfill'))"
   ]
  },
  {
   "cell_type": "code",
   "execution_count": 40,
   "id": "5d4bfd93-d8c2-4f83-8854-2f10c0c0bc69",
   "metadata": {},
   "outputs": [
    {
     "name": "stdout",
     "output_type": "stream",
     "text": [
      "                                                Value  Count\n",
      "0                                               White  10156\n",
      "1                           Black or African American   5171\n",
      "2                                                 NaN   1615\n",
      "3                                               Other   1484\n",
      "4                                        Multi-Racial    712\n",
      "5                                          Don't Know    383\n",
      "6                                               Asian    374\n",
      "7                    American Indian or Alaska Native    200\n",
      "8                                             , White    190\n",
      "9                                         Unspecified     37\n",
      "10                Native Hawaiian or Pacific Islander     37\n",
      "11                        , Black or African American     20\n",
      "12                                     , Multi-Racial     13\n",
      "13                                            Refused     10\n",
      "14                                White, Multi-Racial      8\n",
      "15                                       White, Other      8\n",
      "16                   White, Black or African American      7\n",
      "17            Black or African American, Multi-Racial      6\n",
      "18                                       Other, White      6\n",
      "19                                            , Other      6\n",
      "20                                       White, Asian      4\n",
      "21                   Black or African American, White      4\n",
      "22  Native Hawaiian or Pacific Islander, Black or ...      2\n",
      "23                   Black or African American, Other      2\n",
      "24                                     , Other, White      1\n",
      "25                 , American Indian or Alaska Native      1\n",
      "26          Native Hawaiian or Other Pacific Islander      1\n",
      "27  Native Hawaiian or Pacific Islander, American ...      1\n",
      "28                                Other, Multi-Racial      1\n",
      "29            Multi-Racial, Black or African American      1\n",
      "30                                     White, Refused      1\n",
      "31                   Other, Black or African American      1\n",
      "32            American Indian or Alaska Native, Other      1\n",
      "33                   Asian, Black or African American      1\n",
      "34                              , White, Multi-Racial      1\n",
      "35                                           [object]      1\n",
      "36                                  Don't Know, White      1\n"
     ]
    }
   ],
   "source": [
    "table_breakdown = df_sample['guardian_race'].value_counts(dropna=False).reset_index()\n",
    "table_breakdown.columns = ['Value', 'Count']\n",
    "\n",
    "print(table_breakdown)"
   ]
  },
  {
   "cell_type": "markdown",
   "id": "bf201ede-9c7f-4763-9d8c-d792f76f4a1e",
   "metadata": {},
   "source": [
    "## Guardian Date of Birth\n",
    "\n",
    "use guardian's DOB and interview year to determine guardian’s age during time of interview. We create a new variable named 'guardian_age'"
   ]
  },
  {
   "cell_type": "code",
   "execution_count": 66,
   "id": "48824aea",
   "metadata": {},
   "outputs": [],
   "source": [
    "# use guardian's DOB and interview year to determine guardian’s age during time of interview. \n",
    "\n",
    "# CORRECT erroneous 'guardian_birth_date' and 'date' variable first before determining age\n",
    "\n",
    "\n",
    "\n",
    "# Convert 'guardian_birth_date' and 'date' columns to datetime\n",
    "df_sample['guardian_birth_date'] = pd.to_datetime(df_sample['guardian_birth_date'], errors='coerce')\n",
    "df_sample['date'] = pd.to_datetime(df_sample['date'], errors='coerce')\n",
    "\n",
    "# Calculate the age at the time of the interview\n",
    "df_sample['guardian_age'] = pd.NaT  # NEW VARIABLE: Initialize the column with missing values\n",
    "\n",
    "for i, row in df_sample.iterrows():\n",
    "    try:\n",
    "        age = (row['date'] - row['guardian_birth_date']).days // 365\n",
    "        df_sample.at[i, 'guardian_age'] = age\n",
    "    except:\n",
    "        pass  # Ignore any dates that are out of bounds\n",
    "\n",
    "# Remove rows where 'guardian_age' values are less than 18 or above 99 -- dont remove row, clear field\n",
    "#df_sample = df_sample[(df_sample['guardian_age'] >= 18) & (df_sample['guardian_age'] <= 99)]\n",
    "\n",
    "# Write the updated dataframe to a new CSV file\n",
    "df_sample.to_csv('../data/sample_data.csv', index=False)"
   ]
  },
  {
   "cell_type": "markdown",
   "id": "4008b7e9-9333-4e1c-b5e2-7a5285052490",
   "metadata": {},
   "source": [
    "## Guardian Sex\n",
    "\n",
    "Here, we use the gender guesser to fill in missing values. "
   ]
  },
  {
   "cell_type": "code",
   "execution_count": 25,
   "id": "6879ab75-8f49-4803-9bfa-3a5a31f5b8b5",
   "metadata": {},
   "outputs": [],
   "source": [
    "#Normalize gender values for more proper analysis\n",
    "df_sample['guardian_sex'] = df_sample['guardian_sex'].replace('F', 'Female')\n",
    "df_sample['guardian_sex'] = df_sample['guardian_sex'].replace('M', 'Male')\n",
    "df_sample['guardian_sex'] = df_sample['guardian_sex'].replace('Unknown', '')\n",
    "\n",
    "#save updates to csv\n",
    "df_sample.to_csv('../data/sample_data.csv', index=False)"
   ]
  },
  {
   "cell_type": "code",
   "execution_count": null,
   "id": "711cca22-b544-41b0-9496-36ee8a083807",
   "metadata": {},
   "outputs": [],
   "source": [
    "# use both the \"gender_guesser\" and \"Genderize\" library to fill in missing values\n",
    "# warning: Genderize relies on HTTP requests, so it may lag\n",
    "\n",
    "# Create a gender detector\n",
    "detector = gender.Detector()\n",
    "\n",
    "# Function to fill missing gender\n",
    "def fill_missing_gender(row):\n",
    "    # First try to fill in from existing data in different rows\n",
    "    if row['guardian_id'] in guardian_sex_map:\n",
    "        return guardian_sex_map[row['guardian_id']]\n",
    "    \n",
    "    # Secondary method - guess gender using gender_guesser\n",
    "    name = row['guardian'].split()[0]  # assuming first name is the first part\n",
    "    guessed_gender = detector.get_gender(name)\n",
    "    \n",
    "    # Map guessed gender to your gender categories\n",
    "    if guessed_gender in ['male', 'mostly_male']:\n",
    "        return 'Male'\n",
    "    elif guessed_gender in ['female', 'mostly_female']:\n",
    "        return 'Female'\n",
    "    \n",
    "    # Tertiary method - use genderize.io\n",
    "    else:\n",
    "        guessed_gender = Genderize().get([name])[0]['gender']\n",
    "        if guessed_gender == 'male':\n",
    "            return 'Male'\n",
    "        elif guessed_gender == 'female':\n",
    "            return 'Female'\n",
    "        else:\n",
    "            return 'Unknown'"
   ]
  },
  {
   "cell_type": "code",
   "execution_count": 27,
   "id": "9680dbf4-ac28-4897-a3e2-174f71d51789",
   "metadata": {},
   "outputs": [],
   "source": [
    "# FILL IN MISSING VALUES: Guess the gender using customized function\n",
    "# Creating a mapping from guardian_id to guardian_sex\n",
    "guardian_sex_map = df.dropna(subset=['guardian_sex']).groupby('guardian_id')['guardian_sex'].first().to_dict()\n",
    "\n",
    "# Select rows where guardian_sex is missing\n",
    "missing_gender_indices = df_sample[df_sample['guardian_sex'].isna()].index\n",
    "\n",
    "# Apply the function only to rows with missing guardian_sex\n",
    "df_sample.loc[missing_gender_indices, 'guardian_sex'] = df_sample.loc[missing_gender_indices].apply(fill_missing_gender, axis=1)\n",
    "\n",
    "#save updates to csv\n",
    "df_sample.to_csv('../data/sample_data.csv', index=False)"
   ]
  },
  {
   "cell_type": "code",
   "execution_count": 28,
   "id": "3d9c77c0-73d9-4d0d-82bf-c6175123631d",
   "metadata": {},
   "outputs": [
    {
     "name": "stdout",
     "output_type": "stream",
     "text": [
      "    Value  Count\n",
      "0  Female  18722\n",
      "1    Male   1711\n",
      "2     NaN     30\n",
      "3   Other      5\n"
     ]
    }
   ],
   "source": [
    "table_breakdown = df_sample['guardian_sex'].value_counts(dropna=False).reset_index()\n",
    "table_breakdown.columns = ['Value', 'Count']\n",
    "\n",
    "print(table_breakdown)"
   ]
  },
  {
   "cell_type": "code",
   "execution_count": 85,
   "id": "ab4ddf75",
   "metadata": {},
   "outputs": [],
   "source": [
    "# Using direct mapping to create dummy variable out of guardian_sex\n",
    "df_sample['female'] = np.where(df_sample['guardian_sex'] == 'Female', True, False)\n",
    "\n",
    "#save updates to csv\n",
    "df_sample.to_csv('../data/sample_data.csv', index=False)"
   ]
  },
  {
   "cell_type": "markdown",
   "id": "086bb666-c052-4c9a-a373-7a2638ddf708",
   "metadata": {},
   "source": [
    "## Language of Interview\n",
    "\n",
    "There are only less than 50 missing or invalid variables. As most interviews were done in the english language, impute variable with \"English.\""
   ]
  },
  {
   "cell_type": "code",
   "execution_count": 45,
   "id": "53330583-3c56-4a9d-bcee-19727360cb38",
   "metadata": {},
   "outputs": [],
   "source": [
    "#Assume interview was done in english. Fill empty values with \"English\"\n",
    "df_sample['language'].fillna(\"English\", inplace=True)\n",
    "\n",
    "#save updates to csv\n",
    "df_sample.to_csv('../data/sample_data.csv', index=False)"
   ]
  },
  {
   "cell_type": "markdown",
   "id": "c820c9b2-5124-4242-9cfd-7c0c568ff999",
   "metadata": {},
   "source": [
    "## Mode of Interview\n",
    "\n",
    "convert to dummy variable"
   ]
  },
  {
   "cell_type": "code",
   "execution_count": 14,
   "id": "8c772ac3-3273-4e95-94a5-f2fafb0efde5",
   "metadata": {},
   "outputs": [],
   "source": [
    "#convert to dummy variable\n",
    "# Using direct mapping to create dummy variable out of mode\n",
    "df_sample['phone_interview'] = np.where(df_sample['mode'] == 'Phone', True, False)\n",
    "\n",
    "#save updates to csv\n",
    "df_sample.to_csv('../data/sample_data.csv', index=False)"
   ]
  },
  {
   "cell_type": "markdown",
   "id": "feca48e3-011c-40fa-80af-e53e44b0d3b0",
   "metadata": {},
   "source": [
    "## Program"
   ]
  },
  {
   "cell_type": "markdown",
   "id": "ca0d460a-4967-4f05-ae00-2384c66eb7ed",
   "metadata": {},
   "source": [
    "## Student Enrollment Date\n",
    "\n",
    "Erroneous years range from 1915 to 2121. need to fix them, and reference other columns. "
   ]
  },
  {
   "cell_type": "code",
   "execution_count": 27,
   "id": "7e901115-b373-42f8-b4c7-fdedbe29d1d0",
   "metadata": {},
   "outputs": [],
   "source": [
    "# Convert 'student_enrollment_date' to datetime format\n",
    "df['student_enrollment_date'] = pd.to_datetime(df['student_enrollment_date'], errors='coerce')\n",
    "\n",
    "#fix erroneous and missing years"
   ]
  },
  {
   "cell_type": "markdown",
   "id": "72db8661-9234-4a9e-8585-81f63f07fd08",
   "metadata": {},
   "source": [
    "## Student Disability Status\n",
    "\n",
    "*If entry is blank, change to 'None' if interview disregards questions intended for parents of students with disabilities. "
   ]
  },
  {
   "cell_type": "code",
   "execution_count": 17,
   "id": "723b93ec-c71e-40f9-b34a-a980b54da879",
   "metadata": {},
   "outputs": [],
   "source": [
    "#convert disability questions from string to numeric data type\n",
    "df_sample['QD1'] = pd.to_numeric(df_sample['QD1'], errors='coerce')\n",
    "df_sample['QD1a'] = pd.to_numeric(df_sample['QD1a'], errors='coerce')\n",
    "df_sample['QD2'] = pd.to_numeric(df_sample['QD2'], errors='coerce')\n",
    "df_sample['QD2a'] = pd.to_numeric(df_sample['QD2a'], errors='coerce')\n",
    "\n",
    "# Custom function to check if any of the disability question columns have value between 1 to 5\n",
    "def has_disability(row):\n",
    "    return 1 <= row['QD1'] <= 5 or 1 <= row['QD1a'] <= 5 or 1 <= row['QD2'] <= 5 or 1 <= row['QD2a'] <= 5\n",
    "\n",
    "# Apply the custom function and fill in the missing values in 'student_has_disability'\n",
    "df_sample['student_has_disability'] = df_sample.apply(lambda row: has_disability(row) if pd.isna(row['student_has_disability']) else row['student_has_disability'], axis=1)\n",
    "\n",
    "#save updates to csv\n",
    "df_sample.to_csv('../data/sample_data.csv', index=False)"
   ]
  },
  {
   "cell_type": "markdown",
   "id": "feb6f308-0d54-4e57-a7df-9144cee7c5dd",
   "metadata": {},
   "source": [
    "## Student, Hispanic\n",
    "\n",
    "remove anything that is not \"yes\" or \"no\". reconcile \"dont know\" and \"refused\" values."
   ]
  },
  {
   "cell_type": "code",
   "execution_count": 13,
   "id": "dd96b756-0128-4ce0-976d-9ed748f4de98",
   "metadata": {},
   "outputs": [],
   "source": [
    "##remove anything that is not \"yes\" or \"no\", and reconcile \"dont know\" and \"refused\" values\n",
    "\n",
    "# Update the guardian_hispanic column\n",
    "df_sample.loc[~df_sample[\"guardian_hispanic\"].isin([\"Yes\", \"No\"]), \"guardian_hispanic\"] = \"\"\n",
    "\n",
    "#check the column \"guardian_native_language\" \"guardian_hispanic\", \"student_native_language\"\n",
    "# Define a function to fill missing values in student_hispanic column based on conditions\n",
    "def fill_student_hispanic(row):\n",
    "    if pd.isnull(row['student_hispanic']):\n",
    "        if row['guardian_hispanic'] == 'Yes':\n",
    "            return 'Yes'\n",
    "        elif row['guardian_hispanic'] == 'No':\n",
    "            return 'No'\n",
    "        elif row['guardian_native_language'] == 'Spanish':\n",
    "            return 'Yes'\n",
    "        elif row['student_native_language'] == 'Spanish':\n",
    "            return 'Yes'\n",
    "        elif pd.notnull(row['student_native_language']):\n",
    "            return 'No'\n",
    "        else:\n",
    "            return ''\n",
    "    else:\n",
    "        return row['student_hispanic']\n",
    "\n",
    "# Apply the function to fill missing values in student_hispanic column\n",
    "df_sample['student_hispanic'] = df_sample.apply(fill_student_hispanic, axis=1)\n",
    "\n",
    "# Convert \"yes\" and \"no\" to binary dummy variables\n",
    "#df_sample = pd.get_dummies(df_sample, columns=[\"guardian_hispanic\"], prefix=\"guardian_hispanic\", drop_first=True)\n",
    "\n",
    "# Write the updated data to a new CSV file\n",
    "df_sample.to_csv('../data/sample_data.csv', index=False)\n"
   ]
  },
  {
   "cell_type": "markdown",
   "id": "033d3621-4b56-45a5-8328-971053cb8350",
   "metadata": {},
   "source": [
    "## Student Birth Date"
   ]
  },
  {
   "cell_type": "code",
   "execution_count": 9,
   "id": "3992624e-2eef-49a3-8936-f7fe0c932c6b",
   "metadata": {},
   "outputs": [],
   "source": [
    "# use student's DOB and interview year to determine student’s age during time of interview. \n",
    "# Convert 'student_birth_date' and 'date' columns to datetime\n",
    "df_sample['student_birth_date'] = pd.to_datetime(df_sample['student_birth_date'], errors='coerce')\n",
    "df_sample['date'] = pd.to_datetime(df_sample['date'], errors='coerce')\n",
    "\n",
    "# Calculate the age at the time of the guardian's interview\n",
    "df_sample['student_age'] = pd.NaT  # Initialize the column with missing values\n",
    "\n",
    "for i, row in df_sample.iterrows():\n",
    "    try:\n",
    "        age = (row['date'] - row['student_birth_date']).days // 365\n",
    "        df_sample.at[i, 'student_age'] = age\n",
    "    except:\n",
    "        pass  # Ignore any dates that are out of bounds\n",
    "\n",
    "# Remove rows where 'student_age' values are less than -1 or above 6\n",
    "df_sample = df_sample[(df_sample['student_age'] >= -1) & (df_sample['student_age'] <= 6)]\n",
    "\n",
    "# Write the updated dataframe to a new CSV file\n",
    "df_sample.to_csv('../data/sample_data.csv', index=False)"
   ]
  },
  {
   "cell_type": "markdown",
   "id": "392b75e0-4753-4a15-8d2d-068d65477886",
   "metadata": {},
   "source": [
    "## Student in last year\n",
    "\n",
    "41% missing values, drop"
   ]
  },
  {
   "cell_type": "code",
   "execution_count": 167,
   "id": "9bd7fc8a-e7ca-4ad4-9ceb-993567a9ec96",
   "metadata": {},
   "outputs": [],
   "source": [
    "# FILL IN MISSING VALUES\n",
    "\n",
    "###########\n",
    "# Reference variable 'Q1', which is a question intended for first-timers. if values are 1 and above, i.e. answered, assume that student_in_last_year equals to false.\n",
    "# Convert 'Q1' to numeric, invalid values will be set as NaN\n",
    "df['Q1'] = pd.to_numeric(df['Q1'], errors='coerce')\n",
    "\n",
    "# fill in missing values -> this effectively cuts missing values from 41% to 17%.\n",
    "df.loc[df['Q1'] > 0, 'student_in_last_year'] = False\n",
    "df.loc[df['Q1'] == -3, 'student_in_last_year'] = True # if question was skipped conditionally, it assumes student was enrolled the previous year\n",
    "\n",
    "###########\n",
    "# Fill missing values in 'student_in_last_year' based on matching 'student_id' and 'evaluation_start_year' -> effectively drops from 17% to 5.5%.\n",
    "df['student_in_last_year'] = df.groupby(['student_id', 'evaluation_start_year'])['student_in_last_year'].transform(lambda x: x.fillna(method='ffill').fillna(method='bfill'))\n",
    "\n",
    "###########\n",
    "# check if there are past entries for each student_id' where there is an entry in the previous evaluation year\n",
    "# Custom function to check if evaluation_start_year - 1 exists for the same student_id\n",
    "def check_previous_year(row):\n",
    "    if pd.isna(row['student_in_last_year']):\n",
    "        prev_year = row['evaluation_start_year'] - 1\n",
    "        exists = df[(df['student_id'] == row['student_id']) & (df['evaluation_start_year'] == prev_year)].shape[0] > 0\n",
    "        if exists:\n",
    "            return True\n",
    "    return row['student_in_last_year']\n",
    "\n",
    "# Apply the custom function to each row\n",
    "df['student_in_last_year'] = df.apply(check_previous_year, axis=1)\n",
    "\n",
    "# Copy updated dataframe to .csv file\n",
    "df.to_csv('../data/intv_data.csv', index=False)"
   ]
  },
  {
   "cell_type": "markdown",
   "id": "46d5fbc1-5ea4-4de7-ad32-6a3c9b995b47",
   "metadata": {},
   "source": [
    "## Student Native Language\n",
    "\n",
    "Apply similar steps as Guardian's native language for statistical purposes. Less than 5% of values are missing, and assuming native language by guardian's native language should not drastically affect analysis or introduce bias. "
   ]
  },
  {
   "cell_type": "code",
   "execution_count": 98,
   "id": "130c134b-44c2-46cf-926d-8d167653f19e",
   "metadata": {},
   "outputs": [],
   "source": [
    "# Fill in missing values\n",
    "# Reference 'guardian_native_language' to fill in missing values\n",
    "df['student_native_language'] = df['student_native_language'].fillna(df['guardian_native_language'])\n",
    "\n",
    "# Afterwards, reference 'student_id' as well\n",
    "df['student_native_language'] = df['student_native_language'].fillna(df.groupby('student_id')['student_native_language'].transform('first'))\n",
    "\n",
    "#Copy updated dataframe to .csv file\n",
    "df.to_csv('../data/intv_data.csv', index=False)"
   ]
  },
  {
   "cell_type": "code",
   "execution_count": null,
   "id": "357d128d-897d-4cb8-9019-327e24bbe9e7",
   "metadata": {},
   "outputs": [],
   "source": [
    "# consider grouping languages other than English and Spanish together"
   ]
  },
  {
   "cell_type": "markdown",
   "id": "941a46cb-a2b7-4d1b-91b4-c6f5ca63f617",
   "metadata": {},
   "source": [
    "## Student Program Type\n",
    "\n",
    "For missing values, we can check the center's program type. Then, need to deal with variables that state both \"head start\" and \"early head start.\" Can possibly also base it off student age. 7% is missing."
   ]
  },
  {
   "cell_type": "markdown",
   "id": "0d19ee73-5275-450c-bddd-98476604d5dc",
   "metadata": {},
   "source": [
    "## Student Race\n",
    "\n",
    "#there are too many combinations, over 85 of them. need to simplify and create dummy variables. If student_race is missing, consider using guardian variable (for statistical purposes). cannot assume individually."
   ]
  },
  {
   "cell_type": "code",
   "execution_count": 198,
   "id": "db9e9314-05e3-4ccc-9306-6bf49a660bb0",
   "metadata": {},
   "outputs": [],
   "source": [
    "# Group by guardian_id and fill missing values in guardian_race\n",
    "df['student_race'] = df.groupby('student_id')['student_race'].transform(lambda x: x.fillna(method='ffill').fillna(method='bfill'))"
   ]
  },
  {
   "cell_type": "markdown",
   "id": "f3bb8856-0702-4e8c-9eed-aba58ec89b13",
   "metadata": {},
   "source": [
    "## Student Service Type\n",
    "\n",
    "Try to reference off missing variables like program or center. "
   ]
  },
  {
   "cell_type": "code",
   "execution_count": 200,
   "id": "81e3c3b5-d1c8-44b0-90ac-1f91742bbca3",
   "metadata": {},
   "outputs": [
    {
     "name": "stdout",
     "output_type": "stream",
     "text": [
      "student_service_type                       Center-based_count  \\\n",
      "center                                                          \n",
      "Alger                                                     469   \n",
      "Anahuac HS                                                362   \n",
      "Atchison County HS                                        345   \n",
      "BATESVILLE HEAD START                                      63   \n",
      "BCESC (Early Head Start)                                  504   \n",
      "BCESC Early Learning Center                              1297   \n",
      "BELMONT                                                   217   \n",
      "Beacon Center                                             575   \n",
      "CHOICES                                                   483   \n",
      "CLAY HEAD START                                           393   \n",
      "COLEMAN HEAD START                                          5   \n",
      "Camden                                                    438   \n",
      "Campus # 1                                                640   \n",
      "Campus # 2                                                417   \n",
      "Campus # 4 (Delegate)                                     724   \n",
      "Campus # 4 (Grantee)                                      531   \n",
      "Care Village                                              382   \n",
      "Carpentersville                                           403   \n",
      "Cecil                                                     681   \n",
      "Center for Children                                       335   \n",
      "Collinsville FDFY                                         360   \n",
      "Comstock Park                                             698   \n",
      "Crestwood                                                 309   \n",
      "Dr. Jerry Hamm Early Learning Center                      503   \n",
      "EAST SEVENTH ST                                           104   \n",
      "EHS CCP                                                    17   \n",
      "ELOISE McCLINTON CENTER HEAD START                         38   \n",
      "Early Head Start                                          396   \n",
      "Early Head Start Corona                                     8   \n",
      "Eastlake                                                  246   \n",
      "Edgewood (Babeck) Primary School                          367   \n",
      "Educare OKC                                               831   \n",
      "Essic Robinson EHS                                        224   \n",
      "Essic Robinson FDFY                                       522   \n",
      "Essic Robinson PDPY                                       489   \n",
      "Eunice Head Start                                         407   \n",
      "Fairfield - Nilles                                        571   \n",
      "Fairfield Dixie                                           510   \n",
      "Fairfield ELC - Bach Lane                                 803   \n",
      "Geraldine Anderson Center                                 956   \n",
      "Granite City North EHS                                    259   \n",
      "Granite City North PDPY                                   428   \n",
      "Grant                                                    1458   \n",
      "Greater Mt. Vernon Community Head Start                   557   \n",
      "HAMILTON                                                  209   \n",
      "HLC                                                       498   \n",
      "Hamilton ELC                                              609   \n",
      "Hartford                                                  304   \n",
      "Haverstraw                                                375   \n",
      "Head Start                                               1508   \n",
      "Henry                                                     382   \n",
      "Hiveley                                                   375   \n",
      "Hollingsworth East                                        441   \n",
      "Home Based                                                 67   \n",
      "Home Visiting                                             309   \n",
      "Huntington Woods                                          431   \n",
      "IN23 RHS 0441                                             627   \n",
      "IN24 RHS 0441                                             447   \n",
      "Infinity II                                               308   \n",
      "Jonesboro Pre-K North                                     617   \n",
      "Little Giants Preschool                                   459   \n",
      "McKenny                                                   255   \n",
      "Mitzi CB                                                  183   \n",
      "Montgomery County 0-5                                     121   \n",
      "Mt. Alvernia Center                                       485   \n",
      "New Hope Early Education Center                           416   \n",
      "Northeast                                                 412   \n",
      "Northrop                                                  539   \n",
      "OKTIBBEHA HEAD START                                        4   \n",
      "Office for Children EHS Family Child Care                  29   \n",
      "Opelousas Head Start                                      643   \n",
      "Paragould                                                 326   \n",
      "Pierce Early Learning Center                              346   \n",
      "Plainfield                                                561   \n",
      "Poughkeepsie Center                                      1540   \n",
      "Rogers Lane                                              1050   \n",
      "Rogers Lilac                                               45   \n",
      "Samaritan                                                 411   \n",
      "Schaumburg  CB                                            316   \n",
      "South Godwin                                             1079   \n",
      "South Shore                                               354   \n",
      "Southside Early Childhood Center (YIN)                    288   \n",
      "Spring Valley                                             453   \n",
      "Springdale Early Learning Academy                          54   \n",
      "Springhill                                                437   \n",
      "St. Charles County HV                                       8   \n",
      "St. Clair County Head Start                               852   \n",
      "St. Louis City HV                                          23   \n",
      "Sylvan                                                    866   \n",
      "Sylvan-II                                                 697   \n",
      "The Place                                                 496   \n",
      "Town Hall                                                 470   \n",
      "WATCHUNG                                                   56   \n",
      "Walker's Learning Academy                                 212   \n",
      "Warren County ELC                                         413   \n",
      "West Memphis                                             1202   \n",
      "Williamson EHS                                           1444   \n",
      "Willis HS                                                 464   \n",
      "Wingdale Center                                           412   \n",
      "Wynne                                                     325   \n",
      "\n",
      "student_service_type                       Home-based_count  Other_count  \\\n",
      "center                                                                     \n",
      "Alger                                                     6            3   \n",
      "Anahuac HS                                                1            9   \n",
      "Atchison County HS                                        0            0   \n",
      "BATESVILLE HEAD START                                     0            0   \n",
      "BCESC (Early Head Start)                                883            4   \n",
      "BCESC Early Learning Center                               1            0   \n",
      "BELMONT                                                 184            0   \n",
      "Beacon Center                                            56            0   \n",
      "CHOICES                                                   0            0   \n",
      "CLAY HEAD START                                           0            0   \n",
      "COLEMAN HEAD START                                        0            0   \n",
      "Camden                                                    1            0   \n",
      "Campus # 1                                                0            0   \n",
      "Campus # 2                                               15            0   \n",
      "Campus # 4 (Delegate)                                     0            0   \n",
      "Campus # 4 (Grantee)                                      3            0   \n",
      "Care Village                                             64            1   \n",
      "Carpentersville                                           0            0   \n",
      "Cecil                                                    28            2   \n",
      "Center for Children                                     117           13   \n",
      "Collinsville FDFY                                         0            0   \n",
      "Comstock Park                                             4            3   \n",
      "Crestwood                                                 5            1   \n",
      "Dr. Jerry Hamm Early Learning Center                      0            0   \n",
      "EAST SEVENTH ST                                           3            0   \n",
      "EHS CCP                                                  22           20   \n",
      "ELOISE McCLINTON CENTER HEAD START                        0            0   \n",
      "Early Head Start                                        675            9   \n",
      "Early Head Start Corona                                 433            0   \n",
      "Eastlake                                                106            0   \n",
      "Edgewood (Babeck) Primary School                          0            0   \n",
      "Educare OKC                                               0            0   \n",
      "Essic Robinson EHS                                      180            0   \n",
      "Essic Robinson FDFY                                       1            0   \n",
      "Essic Robinson PDPY                                       0            0   \n",
      "Eunice Head Start                                         0            0   \n",
      "Fairfield - Nilles                                        0            0   \n",
      "Fairfield Dixie                                           1            0   \n",
      "Fairfield ELC - Bach Lane                                 0            0   \n",
      "Geraldine Anderson Center                                94            0   \n",
      "Granite City North EHS                                  263            0   \n",
      "Granite City North PDPY                                   2            0   \n",
      "Grant                                                     0            0   \n",
      "Greater Mt. Vernon Community Head Start                   9            4   \n",
      "HAMILTON                                                155            0   \n",
      "HLC                                                       0            0   \n",
      "Hamilton ELC                                             31            0   \n",
      "Hartford                                                  2            0   \n",
      "Haverstraw                                               63            0   \n",
      "Head Start                                                2            0   \n",
      "Henry                                                     1            2   \n",
      "Hiveley                                                  10            0   \n",
      "Hollingsworth East                                        0            0   \n",
      "Home Based                                              591            0   \n",
      "Home Visiting                                           662            2   \n",
      "Huntington Woods                                          1            2   \n",
      "IN23 RHS 0441                                             0            0   \n",
      "IN24 RHS 0441                                             1            0   \n",
      "Infinity II                                              58            0   \n",
      "Jonesboro Pre-K North                                     0            0   \n",
      "Little Giants Preschool                                   0           72   \n",
      "McKenny                                                  69            0   \n",
      "Mitzi CB                                                175            0   \n",
      "Montgomery County 0-5                                   316            0   \n",
      "Mt. Alvernia Center                                      90            0   \n",
      "New Hope Early Education Center                           2            0   \n",
      "Northeast                                                 5            0   \n",
      "Northrop                                                  2            0   \n",
      "OKTIBBEHA HEAD START                                      0            0   \n",
      "Office for Children EHS Family Child Care               171          704   \n",
      "Opelousas Head Start                                      0            0   \n",
      "Paragould                                                92            0   \n",
      "Pierce Early Learning Center                              0            0   \n",
      "Plainfield                                                0            2   \n",
      "Poughkeepsie Center                                     229            0   \n",
      "Rogers Lane                                              35           10   \n",
      "Rogers Lilac                                            285           48   \n",
      "Samaritan                                                99            0   \n",
      "Schaumburg  CB                                           32            0   \n",
      "South Godwin                                             52            4   \n",
      "South Shore                                               0            0   \n",
      "Southside Early Childhood Center (YIN)                    0           80   \n",
      "Spring Valley                                            66            0   \n",
      "Springdale Early Learning Academy                       361            0   \n",
      "Springhill                                                1            1   \n",
      "St. Charles County HV                                   326            0   \n",
      "St. Clair County Head Start                               0            0   \n",
      "St. Louis City HV                                      1091            0   \n",
      "Sylvan                                                    4           26   \n",
      "Sylvan-II                                                 2           14   \n",
      "The Place                                                12            0   \n",
      "Town Hall                                                 0            0   \n",
      "WATCHUNG                                                  0            0   \n",
      "Walker's Learning Academy                               243            0   \n",
      "Warren County ELC                                        12            0   \n",
      "West Memphis                                              1            0   \n",
      "Williamson EHS                                            9            0   \n",
      "Willis HS                                                 0            0   \n",
      "Wingdale Center                                          33            0   \n",
      "Wynne                                                    62            0   \n",
      "\n",
      "student_service_type                       Center-based_percent  \\\n",
      "center                                                            \n",
      "Alger                                                 98.117155   \n",
      "Anahuac HS                                            97.311828   \n",
      "Atchison County HS                                   100.000000   \n",
      "BATESVILLE HEAD START                                100.000000   \n",
      "BCESC (Early Head Start)                              36.232926   \n",
      "BCESC Early Learning Center                           99.922958   \n",
      "BELMONT                                               54.114713   \n",
      "Beacon Center                                         91.125198   \n",
      "CHOICES                                              100.000000   \n",
      "CLAY HEAD START                                      100.000000   \n",
      "COLEMAN HEAD START                                   100.000000   \n",
      "Camden                                                99.772210   \n",
      "Campus # 1                                           100.000000   \n",
      "Campus # 2                                            96.527778   \n",
      "Campus # 4 (Delegate)                                100.000000   \n",
      "Campus # 4 (Grantee)                                  99.438202   \n",
      "Care Village                                          85.458613   \n",
      "Carpentersville                                      100.000000   \n",
      "Cecil                                                 95.780591   \n",
      "Center for Children                                   72.043011   \n",
      "Collinsville FDFY                                    100.000000   \n",
      "Comstock Park                                         99.007092   \n",
      "Crestwood                                             98.095238   \n",
      "Dr. Jerry Hamm Early Learning Center                 100.000000   \n",
      "EAST SEVENTH ST                                       97.196262   \n",
      "EHS CCP                                               28.813559   \n",
      "ELOISE McCLINTON CENTER HEAD START                   100.000000   \n",
      "Early Head Start                                      36.666667   \n",
      "Early Head Start Corona                                1.814059   \n",
      "Eastlake                                              69.886364   \n",
      "Edgewood (Babeck) Primary School                     100.000000   \n",
      "Educare OKC                                          100.000000   \n",
      "Essic Robinson EHS                                    55.445545   \n",
      "Essic Robinson FDFY                                   99.808795   \n",
      "Essic Robinson PDPY                                  100.000000   \n",
      "Eunice Head Start                                    100.000000   \n",
      "Fairfield - Nilles                                   100.000000   \n",
      "Fairfield Dixie                                       99.804305   \n",
      "Fairfield ELC - Bach Lane                            100.000000   \n",
      "Geraldine Anderson Center                             91.047619   \n",
      "Granite City North EHS                                49.616858   \n",
      "Granite City North PDPY                               99.534884   \n",
      "Grant                                                100.000000   \n",
      "Greater Mt. Vernon Community Head Start               97.719298   \n",
      "HAMILTON                                              57.417582   \n",
      "HLC                                                  100.000000   \n",
      "Hamilton ELC                                          95.156250   \n",
      "Hartford                                              99.346405   \n",
      "Haverstraw                                            85.616438   \n",
      "Head Start                                            99.867550   \n",
      "Henry                                                 99.220779   \n",
      "Hiveley                                               97.402597   \n",
      "Hollingsworth East                                   100.000000   \n",
      "Home Based                                            10.182371   \n",
      "Home Visiting                                         31.757451   \n",
      "Huntington Woods                                      99.308756   \n",
      "IN23 RHS 0441                                        100.000000   \n",
      "IN24 RHS 0441                                         99.776786   \n",
      "Infinity II                                           84.153005   \n",
      "Jonesboro Pre-K North                                100.000000   \n",
      "Little Giants Preschool                               86.440678   \n",
      "McKenny                                               78.703704   \n",
      "Mitzi CB                                              51.117318   \n",
      "Montgomery County 0-5                                 27.688787   \n",
      "Mt. Alvernia Center                                   84.347826   \n",
      "New Hope Early Education Center                       99.521531   \n",
      "Northeast                                             98.800959   \n",
      "Northrop                                              99.630314   \n",
      "OKTIBBEHA HEAD START                                 100.000000   \n",
      "Office for Children EHS Family Child Care              3.207965   \n",
      "Opelousas Head Start                                 100.000000   \n",
      "Paragould                                             77.990431   \n",
      "Pierce Early Learning Center                         100.000000   \n",
      "Plainfield                                            99.644760   \n",
      "Poughkeepsie Center                                   87.054833   \n",
      "Rogers Lane                                           95.890411   \n",
      "Rogers Lilac                                          11.904762   \n",
      "Samaritan                                             80.588235   \n",
      "Schaumburg  CB                                        90.804598   \n",
      "South Godwin                                          95.066079   \n",
      "South Shore                                          100.000000   \n",
      "Southside Early Childhood Center (YIN)                78.260870   \n",
      "Spring Valley                                         87.283237   \n",
      "Springdale Early Learning Academy                     13.012048   \n",
      "Springhill                                            99.544419   \n",
      "St. Charles County HV                                  2.395210   \n",
      "St. Clair County Head Start                          100.000000   \n",
      "St. Louis City HV                                      2.064632   \n",
      "Sylvan                                                96.651786   \n",
      "Sylvan-II                                             97.755961   \n",
      "The Place                                             97.637795   \n",
      "Town Hall                                            100.000000   \n",
      "WATCHUNG                                             100.000000   \n",
      "Walker's Learning Academy                             46.593407   \n",
      "Warren County ELC                                     97.176471   \n",
      "West Memphis                                          99.916874   \n",
      "Williamson EHS                                        99.380592   \n",
      "Willis HS                                            100.000000   \n",
      "Wingdale Center                                       92.584270   \n",
      "Wynne                                                 83.979328   \n",
      "\n",
      "student_service_type                       Home-based_percent  Other_percent  \\\n",
      "center                                                                         \n",
      "Alger                                                1.255230       0.627615   \n",
      "Anahuac HS                                           0.268817       2.419355   \n",
      "Atchison County HS                                   0.000000       0.000000   \n",
      "BATESVILLE HEAD START                                0.000000       0.000000   \n",
      "BCESC (Early Head Start)                            63.479511       0.287563   \n",
      "BCESC Early Learning Center                          0.077042       0.000000   \n",
      "BELMONT                                             45.885287       0.000000   \n",
      "Beacon Center                                        8.874802       0.000000   \n",
      "CHOICES                                              0.000000       0.000000   \n",
      "CLAY HEAD START                                      0.000000       0.000000   \n",
      "COLEMAN HEAD START                                   0.000000       0.000000   \n",
      "Camden                                               0.227790       0.000000   \n",
      "Campus # 1                                           0.000000       0.000000   \n",
      "Campus # 2                                           3.472222       0.000000   \n",
      "Campus # 4 (Delegate)                                0.000000       0.000000   \n",
      "Campus # 4 (Grantee)                                 0.561798       0.000000   \n",
      "Care Village                                        14.317673       0.223714   \n",
      "Carpentersville                                      0.000000       0.000000   \n",
      "Cecil                                                3.938115       0.281294   \n",
      "Center for Children                                 25.161290       2.795699   \n",
      "Collinsville FDFY                                    0.000000       0.000000   \n",
      "Comstock Park                                        0.567376       0.425532   \n",
      "Crestwood                                            1.587302       0.317460   \n",
      "Dr. Jerry Hamm Early Learning Center                 0.000000       0.000000   \n",
      "EAST SEVENTH ST                                      2.803738       0.000000   \n",
      "EHS CCP                                             37.288136      33.898305   \n",
      "ELOISE McCLINTON CENTER HEAD START                   0.000000       0.000000   \n",
      "Early Head Start                                    62.500000       0.833333   \n",
      "Early Head Start Corona                             98.185941       0.000000   \n",
      "Eastlake                                            30.113636       0.000000   \n",
      "Edgewood (Babeck) Primary School                     0.000000       0.000000   \n",
      "Educare OKC                                          0.000000       0.000000   \n",
      "Essic Robinson EHS                                  44.554455       0.000000   \n",
      "Essic Robinson FDFY                                  0.191205       0.000000   \n",
      "Essic Robinson PDPY                                  0.000000       0.000000   \n",
      "Eunice Head Start                                    0.000000       0.000000   \n",
      "Fairfield - Nilles                                   0.000000       0.000000   \n",
      "Fairfield Dixie                                      0.195695       0.000000   \n",
      "Fairfield ELC - Bach Lane                            0.000000       0.000000   \n",
      "Geraldine Anderson Center                            8.952381       0.000000   \n",
      "Granite City North EHS                              50.383142       0.000000   \n",
      "Granite City North PDPY                              0.465116       0.000000   \n",
      "Grant                                                0.000000       0.000000   \n",
      "Greater Mt. Vernon Community Head Start              1.578947       0.701754   \n",
      "HAMILTON                                            42.582418       0.000000   \n",
      "HLC                                                  0.000000       0.000000   \n",
      "Hamilton ELC                                         4.843750       0.000000   \n",
      "Hartford                                             0.653595       0.000000   \n",
      "Haverstraw                                          14.383562       0.000000   \n",
      "Head Start                                           0.132450       0.000000   \n",
      "Henry                                                0.259740       0.519481   \n",
      "Hiveley                                              2.597403       0.000000   \n",
      "Hollingsworth East                                   0.000000       0.000000   \n",
      "Home Based                                          89.817629       0.000000   \n",
      "Home Visiting                                       68.036999       0.205550   \n",
      "Huntington Woods                                     0.230415       0.460829   \n",
      "IN23 RHS 0441                                        0.000000       0.000000   \n",
      "IN24 RHS 0441                                        0.223214       0.000000   \n",
      "Infinity II                                         15.846995       0.000000   \n",
      "Jonesboro Pre-K North                                0.000000       0.000000   \n",
      "Little Giants Preschool                              0.000000      13.559322   \n",
      "McKenny                                             21.296296       0.000000   \n",
      "Mitzi CB                                            48.882682       0.000000   \n",
      "Montgomery County 0-5                               72.311213       0.000000   \n",
      "Mt. Alvernia Center                                 15.652174       0.000000   \n",
      "New Hope Early Education Center                      0.478469       0.000000   \n",
      "Northeast                                            1.199041       0.000000   \n",
      "Northrop                                             0.369686       0.000000   \n",
      "OKTIBBEHA HEAD START                                 0.000000       0.000000   \n",
      "Office for Children EHS Family Child Care           18.915929      77.876106   \n",
      "Opelousas Head Start                                 0.000000       0.000000   \n",
      "Paragould                                           22.009569       0.000000   \n",
      "Pierce Early Learning Center                         0.000000       0.000000   \n",
      "Plainfield                                           0.000000       0.355240   \n",
      "Poughkeepsie Center                                 12.945167       0.000000   \n",
      "Rogers Lane                                          3.196347       0.913242   \n",
      "Rogers Lilac                                        75.396825      12.698413   \n",
      "Samaritan                                           19.411765       0.000000   \n",
      "Schaumburg  CB                                       9.195402       0.000000   \n",
      "South Godwin                                         4.581498       0.352423   \n",
      "South Shore                                          0.000000       0.000000   \n",
      "Southside Early Childhood Center (YIN)               0.000000      21.739130   \n",
      "Spring Valley                                       12.716763       0.000000   \n",
      "Springdale Early Learning Academy                   86.987952       0.000000   \n",
      "Springhill                                           0.227790       0.227790   \n",
      "St. Charles County HV                               97.604790       0.000000   \n",
      "St. Clair County Head Start                          0.000000       0.000000   \n",
      "St. Louis City HV                                   97.935368       0.000000   \n",
      "Sylvan                                               0.446429       2.901786   \n",
      "Sylvan-II                                            0.280505       1.963534   \n",
      "The Place                                            2.362205       0.000000   \n",
      "Town Hall                                            0.000000       0.000000   \n",
      "WATCHUNG                                             0.000000       0.000000   \n",
      "Walker's Learning Academy                           53.406593       0.000000   \n",
      "Warren County ELC                                    2.823529       0.000000   \n",
      "West Memphis                                         0.083126       0.000000   \n",
      "Williamson EHS                                       0.619408       0.000000   \n",
      "Willis HS                                            0.000000       0.000000   \n",
      "Wingdale Center                                      7.415730       0.000000   \n",
      "Wynne                                               16.020672       0.000000   \n",
      "\n",
      "student_service_type                        modal_value  \n",
      "center                                                   \n",
      "Alger                                      Center-based  \n",
      "Anahuac HS                                 Center-based  \n",
      "Atchison County HS                         Center-based  \n",
      "BATESVILLE HEAD START                      Center-based  \n",
      "BCESC (Early Head Start)                     Home-based  \n",
      "BCESC Early Learning Center                Center-based  \n",
      "BELMONT                                    Center-based  \n",
      "Beacon Center                              Center-based  \n",
      "CHOICES                                    Center-based  \n",
      "CLAY HEAD START                            Center-based  \n",
      "COLEMAN HEAD START                         Center-based  \n",
      "Camden                                     Center-based  \n",
      "Campus # 1                                 Center-based  \n",
      "Campus # 2                                 Center-based  \n",
      "Campus # 4 (Delegate)                      Center-based  \n",
      "Campus # 4 (Grantee)                       Center-based  \n",
      "Care Village                               Center-based  \n",
      "Carpentersville                            Center-based  \n",
      "Cecil                                      Center-based  \n",
      "Center for Children                        Center-based  \n",
      "Collinsville FDFY                          Center-based  \n",
      "Comstock Park                              Center-based  \n",
      "Crestwood                                  Center-based  \n",
      "Dr. Jerry Hamm Early Learning Center       Center-based  \n",
      "EAST SEVENTH ST                            Center-based  \n",
      "EHS CCP                                      Home-based  \n",
      "ELOISE McCLINTON CENTER HEAD START         Center-based  \n",
      "Early Head Start                             Home-based  \n",
      "Early Head Start Corona                      Home-based  \n",
      "Eastlake                                   Center-based  \n",
      "Edgewood (Babeck) Primary School           Center-based  \n",
      "Educare OKC                                Center-based  \n",
      "Essic Robinson EHS                         Center-based  \n",
      "Essic Robinson FDFY                        Center-based  \n",
      "Essic Robinson PDPY                        Center-based  \n",
      "Eunice Head Start                          Center-based  \n",
      "Fairfield - Nilles                         Center-based  \n",
      "Fairfield Dixie                            Center-based  \n",
      "Fairfield ELC - Bach Lane                  Center-based  \n",
      "Geraldine Anderson Center                  Center-based  \n",
      "Granite City North EHS                       Home-based  \n",
      "Granite City North PDPY                    Center-based  \n",
      "Grant                                      Center-based  \n",
      "Greater Mt. Vernon Community Head Start    Center-based  \n",
      "HAMILTON                                   Center-based  \n",
      "HLC                                        Center-based  \n",
      "Hamilton ELC                               Center-based  \n",
      "Hartford                                   Center-based  \n",
      "Haverstraw                                 Center-based  \n",
      "Head Start                                 Center-based  \n",
      "Henry                                      Center-based  \n",
      "Hiveley                                    Center-based  \n",
      "Hollingsworth East                         Center-based  \n",
      "Home Based                                   Home-based  \n",
      "Home Visiting                                Home-based  \n",
      "Huntington Woods                           Center-based  \n",
      "IN23 RHS 0441                              Center-based  \n",
      "IN24 RHS 0441                              Center-based  \n",
      "Infinity II                                Center-based  \n",
      "Jonesboro Pre-K North                      Center-based  \n",
      "Little Giants Preschool                    Center-based  \n",
      "McKenny                                    Center-based  \n",
      "Mitzi CB                                   Center-based  \n",
      "Montgomery County 0-5                        Home-based  \n",
      "Mt. Alvernia Center                        Center-based  \n",
      "New Hope Early Education Center            Center-based  \n",
      "Northeast                                  Center-based  \n",
      "Northrop                                   Center-based  \n",
      "OKTIBBEHA HEAD START                       Center-based  \n",
      "Office for Children EHS Family Child Care         Other  \n",
      "Opelousas Head Start                       Center-based  \n",
      "Paragould                                  Center-based  \n",
      "Pierce Early Learning Center               Center-based  \n",
      "Plainfield                                 Center-based  \n",
      "Poughkeepsie Center                        Center-based  \n",
      "Rogers Lane                                Center-based  \n",
      "Rogers Lilac                                 Home-based  \n",
      "Samaritan                                  Center-based  \n",
      "Schaumburg  CB                             Center-based  \n",
      "South Godwin                               Center-based  \n",
      "South Shore                                Center-based  \n",
      "Southside Early Childhood Center (YIN)     Center-based  \n",
      "Spring Valley                              Center-based  \n",
      "Springdale Early Learning Academy            Home-based  \n",
      "Springhill                                 Center-based  \n",
      "St. Charles County HV                        Home-based  \n",
      "St. Clair County Head Start                Center-based  \n",
      "St. Louis City HV                            Home-based  \n",
      "Sylvan                                     Center-based  \n",
      "Sylvan-II                                  Center-based  \n",
      "The Place                                  Center-based  \n",
      "Town Hall                                  Center-based  \n",
      "WATCHUNG                                   Center-based  \n",
      "Walker's Learning Academy                    Home-based  \n",
      "Warren County ELC                          Center-based  \n",
      "West Memphis                               Center-based  \n",
      "Williamson EHS                             Center-based  \n",
      "Willis HS                                  Center-based  \n",
      "Wingdale Center                            Center-based  \n",
      "Wynne                                      Center-based  \n"
     ]
    }
   ],
   "source": [
    "# Find the top 100 centers\n",
    "top_100_centers = df['center'].value_counts().head(100).index\n",
    "\n",
    "# Filter DataFrame to include only the top 100 centers\n",
    "df_filtered = df[df['center'].isin(top_100_centers)]\n",
    "\n",
    "# Calculate modal value for each center\n",
    "modal_values = df_filtered.groupby('center')['student_service_type'].apply(lambda x: x.mode().iloc[0])\n",
    "\n",
    "# Calculate count distribution for each center\n",
    "count_distribution = df_filtered.groupby(['center', 'student_service_type']).size().unstack(fill_value=0)\n",
    "\n",
    "# Calculate percent distribution for each center\n",
    "percent_distribution = count_distribution.div(count_distribution.sum(axis=1), axis=0) * 100\n",
    "\n",
    "# Combining count and percent distributions into a single DataFrame\n",
    "combined_distribution = pd.concat([count_distribution.add_suffix('_count'), percent_distribution.add_suffix('_percent')], axis=1)\n",
    "\n",
    "# Adding modal values to the combined DataFrame\n",
    "combined_distribution['modal_value'] = modal_values\n",
    "\n",
    "# Display the combined DataFrame\n",
    "print(combined_distribution)"
   ]
  },
  {
   "cell_type": "markdown",
   "id": "d76a8e69-c4e4-4d25-8c87-cc9ce23bd330",
   "metadata": {},
   "source": [
    "## Student Sex\n",
    "\n",
    "use gender_guesser again"
   ]
  },
  {
   "cell_type": "code",
   "execution_count": 91,
   "id": "268dbcb7-8e4a-43ec-9a1d-03b44d6f5b3f",
   "metadata": {},
   "outputs": [],
   "source": [
    "def guess_gender(name):\n",
    "    d = gender.Detector()\n",
    "    gender_guess = d.get_gender(name)\n",
    "    return gender_guess\n",
    "\n",
    "# Apply guess_gender function to fill missing values in 'student_sex' column\n",
    "df_sample['student_sex'] = df_sample.apply(lambda row: guess_gender(row['student']) if pd.isnull(row['student_sex']) else row['student_sex'], axis=1)"
   ]
  },
  {
   "cell_type": "markdown",
   "id": "82471932-cc4a-45ec-8ee2-5a62ff5b2c9c",
   "metadata": {},
   "source": [
    "## Student Was Early Headstart"
   ]
  },
  {
   "cell_type": "code",
   "execution_count": 56,
   "id": "91c4368a-4264-48dd-b630-c59d2b757a30",
   "metadata": {},
   "outputs": [],
   "source": [
    "# Convert string representations of 'True' and 'False' to boolean\n",
    "df_sample['student_was_early_head_start'] = df_sample['student_was_early_head_start'].replace({'False': False, 'True': True})\n",
    "\n",
    "# Write the updated dataframe to a new CSV file\n",
    "df_sample.to_csv('../data/sample_data.csv', index=False)"
   ]
  },
  {
   "cell_type": "markdown",
   "id": "c83ef1b7-0e2a-4ab1-a3b4-1771c58c7509",
   "metadata": {},
   "source": [
    "## Student Was Head Start"
   ]
  },
  {
   "cell_type": "code",
   "execution_count": 57,
   "id": "6e8dfe52-a0b2-4f0f-bf57-ff13298cd574",
   "metadata": {},
   "outputs": [],
   "source": [
    "# Convert string representations of 'True' and 'False' to boolean\n",
    "df_sample['student_was_head_start'] = df_sample['student_was_head_start'].replace({'False': False, 'True': True})\n",
    "\n",
    "# Write the updated dataframe to a new CSV file\n",
    "df_sample.to_csv('../data/sample_data.csv', index=False)"
   ]
  },
  {
   "cell_type": "markdown",
   "id": "9ece5bc2-d63b-41d6-97b7-d63da2e8f1db",
   "metadata": {},
   "source": [
    "# Next Section: Likert Scale Interview Questions"
   ]
  },
  {
   "cell_type": "markdown",
   "id": "fb678305-1a6e-4640-9a30-eb12157d53ed",
   "metadata": {},
   "source": [
    "### CHANGE ALL UNANSWERED VALUES TO BLANK"
   ]
  },
  {
   "cell_type": "code",
   "execution_count": 82,
   "id": "5d1a6db2-7144-4713-a59e-bc2444e61ddf",
   "metadata": {
    "scrolled": true
   },
   "outputs": [],
   "source": [
    "##CHANGE ALL UNANSWERED VALUES TO BLANK##\n",
    "#determine all of the likert scale interview variables\n",
    "\n",
    "variables = ['Q1', 'Q1a', 'Q1b', 'Q1c', 'Q1d', 'Q2', 'Q2a', 'Q3', 'Q3a', 'Q4', 'Q4a', 'Q5', 'Q5a', 'Q6', 'Q6a',\n",
    "             'Q7', 'Q7a', 'Q8', 'Q8a', 'QD1', 'QD1a', 'QD2', 'QD2a', 'Q9', 'Q9a', 'Q10', 'Q10a', 'Q11', 'Q11a',\n",
    "             'Q12', 'Q12a', 'Q13', 'Q13a', 'Q14', 'Q14a', 'Q15', 'Q15a', 'Q16', 'Q16a', 'Q17', 'Q17a', 'Q18',\n",
    "             'Q18a', 'Q19', 'Q20', 'Q21', 'Q22', 'Q23', 'Q24', 'Q25']\n",
    "\n",
    "#convert string values to numeric, change the datatype to int\n",
    "df_sample[variables] = df_sample[variables].apply(pd.to_numeric, errors='coerce', downcast='integer')\n",
    "\n",
    "#replace the row values with blanks if the value is below 0\n",
    "df_sample[variables] = df_sample[variables].applymap(lambda x: '' if x < 0 else x)\n",
    "\n",
    "# Write the updated dataframe to a new CSV file\n",
    "df_sample.to_csv('../data/sample_data.csv', index=False)"
   ]
  },
  {
   "cell_type": "markdown",
   "id": "ad311e54-93f8-4baa-a8eb-49d1cf8059f5",
   "metadata": {},
   "source": [
    "### DROP ALL BLANK INTERVIEWS"
   ]
  },
  {
   "cell_type": "code",
   "execution_count": 83,
   "id": "3ae61458-8512-4a9b-9943-ae76dfdbe516",
   "metadata": {},
   "outputs": [
    {
     "name": "stdout",
     "output_type": "stream",
     "text": [
      "Number of rows deleted where all 'Q' variables are blank: 2087\n",
      "Percentage of rows deleted where all 'Q' variables are blank: 10.20%\n"
     ]
    }
   ],
   "source": [
    "# Select columns starting with 'Q'\n",
    "q_columns = [col for col in df_sample.columns if col.startswith('Q')]\n",
    "\n",
    "# Count the number of rows where all 'Q' columns are blank or null\n",
    "count_all_blank = len(df_sample[(df_sample[q_columns].isnull() | (df_sample[q_columns] == \"\")).all(axis=1)])\n",
    "\n",
    "# Calculate the percentage of rows where all 'Q' columns are blank\n",
    "percentage_all_blank = (count_all_blank / len(df_sample)) * 100\n",
    "\n",
    "# Delete the rows where all 'Q' columns are blank\n",
    "df_sample = df_sample[~(df_sample[q_columns].isnull() | (df_sample[q_columns] == \"\")).all(axis=1)]\n",
    "\n",
    "# Print the number and percentage of deleted rows\n",
    "print(\"Number of rows deleted where all 'Q' variables are blank:\", count_all_blank)\n",
    "print(\"Percentage of rows deleted where all 'Q' variables are blank: {:.2f}%\".format(percentage_all_blank))\n",
    "\n",
    "# Write the updated dataframe to .csv file\n",
    "df_sample.to_csv('../data/sample_data.csv', index=False)"
   ]
  },
  {
   "cell_type": "code",
   "execution_count": 85,
   "id": "27ba4bcc-e989-4f27-8ae9-79301c5ccdc9",
   "metadata": {},
   "outputs": [
    {
     "name": "stdout",
     "output_type": "stream",
     "text": [
      "Count of missing values in 'Q8a': 529\n",
      "Percentage of missing values in 'Q8a': 3.88%\n"
     ]
    }
   ],
   "source": [
    "## need to consider how questions are intended to not be answered based on evaluation period and circumstances (e.g. student disability), filter them"
   ]
  },
  {
   "cell_type": "markdown",
   "id": "40a6279c-22f0-417d-b643-47474cefcc2e",
   "metadata": {},
   "source": [
    "# Next Section: Open Interview Questions\n",
    "\n",
    "perhaps we can use data analysis to see how sentiments change\n",
    "https://www.surveypractice.org/article/25699-what-to-do-with-all-those-open-ended-responses-data-visualization-techniques-for-survey-researchers"
   ]
  },
  {
   "cell_type": "code",
   "execution_count": 61,
   "id": "c8da15bc-743b-4ac1-b0a3-71c64338d5b7",
   "metadata": {},
   "outputs": [],
   "source": [
    "#first need to translate spanish-language to english\n",
    "columns_to_translate = ['OQ1', 'OQ2', 'OQ3', 'OQ3a', 'OQ4', 'OQ5', 'OQ6', 'OQ7', 'OQ8', 'OQ9', 'OQ10']"
   ]
  },
  {
   "cell_type": "code",
   "execution_count": 95,
   "id": "50ecf159-4630-4cbf-9766-fc3d13f12643",
   "metadata": {},
   "outputs": [
    {
     "name": "stdout",
     "output_type": "stream",
     "text": [
      "0         YES I DO THE STORY THAT I HAVE SINCE MY OLD CH...\n",
      "1                                                       nan\n",
      "2         I am more open with telling the staff any prob...\n",
      "3         it has helped me and my children . I have lear...\n",
      "4         I mean my relationship with Stacy , its a good...\n",
      "                                ...                        \n",
      "204670    This is our last summer with the program .   W...\n",
      "204671    Mantuvo conversaciones , escucho acerca de nue...\n",
      "204672    La maestra hizo preguntas acerca de mi familia...\n",
      "204673    Se intereso por mi familia y nuestras necesida...\n",
      "204674    Manteniendo conversaciones , haciendo pregunta...\n",
      "Name: OQ1_cleaned, Length: 204675, dtype: object\n"
     ]
    }
   ],
   "source": [
    "#SCRUB ALL NAMES WITH GENERIC NAMES\n",
    "# Load the spaCy multilingual language model\n",
    "nlp = spacy.load('xx_ent_wiki_sm')\n",
    "\n",
    "# Define the generic placeholder for student names\n",
    "generic_name = \"Student\"\n",
    "\n",
    "# Define a function to remove names from a text string\n",
    "def remove_names(text):\n",
    "    doc = nlp(text)\n",
    "    cleaned_text = ' '.join([token.text if token.ent_type_ != 1 else generic_name for token in doc])\n",
    "    return cleaned_text\n",
    "\n",
    "# Convert float values to strings in the 'OQ1' column\n",
    "df['OQ1'] = df['OQ1'].astype(str)\n",
    "\n",
    "# Apply the function to the 'OQ1' column\n",
    "df['OQ1_cleaned'] = df['OQ1'].apply(remove_names)\n",
    "\n",
    "# Print the updated column\n",
    "print(df['OQ1_cleaned'])"
   ]
  },
  {
   "cell_type": "markdown",
   "id": "1a10a045-101d-4eac-b9b7-5ab05cc725c1",
   "metadata": {},
   "source": [
    "## Text Normalization"
   ]
  },
  {
   "cell_type": "code",
   "execution_count": 89,
   "id": "ed86eab9-d6bf-4dee-8277-6121a18d4629",
   "metadata": {},
   "outputs": [],
   "source": [
    "def normalize_text(text):\n",
    "    text = text.lower() # converts all interview responses to lowercase\n",
    "    text = re.sub(r'[^a-zA-Z0-9\\s]', '', text) # removes special characters and punctuation\n",
    "    text = text.strip() # normalizes text e.g. extra spaces\n",
    "    # Apply additional normalization steps as needed\n",
    "    return text\n",
    "\n",
    "for column in df.columns:\n",
    "    if column.startswith('OQ'):\n",
    "        df_sample[column] = df_sample[column].apply(normalize_text)\n",
    "        \n",
    "\n",
    "#TOKENIZATION\n",
    "#REMOVING STOPWORDS\n",
    "#CORRECTING MISSPELLED WORDS\n",
    "#STEMMING AND LEMATIZATION\n",
    "#HANDLE MISSING VALUES\n",
    "\n",
    "# Write the updated dataframe to .csv file\n",
    "df_sample.to_csv('../data/sample_data.csv', index=False)"
   ]
  },
  {
   "cell_type": "markdown",
   "id": "39607fda-6bc8-4493-a872-cd304150ac36",
   "metadata": {},
   "source": [
    "# Remove Unnecessary Columns\n",
    "\n",
    "After meticulously going through the data cleaning process, it is important to ensure that the dataset is streamlined and efficient for analysis. Removing excess columns that do not contribute to the analysis or could introduce noise is a critical step in data preparation. This step not only enhances the readability and manageability of the dataset but also optimizes memory usage and potentially speeds up processing time. It’s vital to scrutinize each column and ascertain its relevance in context to the analysis goals."
   ]
  },
  {
   "cell_type": "code",
   "execution_count": null,
   "id": "573f5a74-e6d5-4ad7-adc1-cbfe26822685",
   "metadata": {},
   "outputs": [],
   "source": [
    "## REMOVE UNNECESSARY, PRIVATE, AND NO LONGER NEEDED COLUMNS\n",
    "# List of columns to be removed\n",
    "columns_to_remove = ['created_at', 'guardian', 'guardian_employment', 'guardian_highest_education', 'guardian_birth_date', 'evaluation_year'\n",
    "                     'guardian_vendor_id', 'interview_id', 'interviewer_id', 'mode',\n",
    "                     'interviewer', 'interviewer_vendor_id', 'student', 'student_staff_vendor_id', 'student_birth_date'\n",
    "                     'student_vendor_id', 'student_staff', 'student_staff_id']\n",
    "\n",
    "# Removing the columns from the DataFrame\n",
    "df_sample = df_sample.drop(columns=columns_to_remove)\n",
    "\n",
    "#save updates to working csv\n",
    "df_sample.to_csv('../data/sample_data.csv', index=False)"
   ]
  },
  {
   "cell_type": "markdown",
   "id": "bdb83f76-53e3-4a61-ad2e-ba6bdfa8a8a4",
   "metadata": {},
   "source": [
    "# Data Type Reconfiguration\n",
    "\n",
    "To make the analysis faster"
   ]
  },
  {
   "cell_type": "code",
   "execution_count": 194,
   "id": "400611cb-c46c-4f7b-b1e2-5568d0923ae6",
   "metadata": {},
   "outputs": [],
   "source": [
    "# Infer and assign data types based on majority or inferred data types\n",
    "df_inferred = df.infer_objects()"
   ]
  }
 ],
 "metadata": {
  "kernelspec": {
   "display_name": "Python 3 (ipykernel)",
   "language": "python",
   "name": "python3"
  },
  "language_info": {
   "codemirror_mode": {
    "name": "ipython",
    "version": 3
   },
   "file_extension": ".py",
   "mimetype": "text/x-python",
   "name": "python",
   "nbconvert_exporter": "python",
   "pygments_lexer": "ipython3",
   "version": "3.11.4"
  }
 },
 "nbformat": 4,
 "nbformat_minor": 5
}
