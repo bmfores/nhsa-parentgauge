{
 "cells": [
  {
   "cell_type": "markdown",
   "id": "611d8a66",
   "metadata": {},
   "source": [
    "<div style=\"display: inline-block;\">\n",
    "    <img src=\"images/nhsa_logo.png\" alt=\"Image\" style=\"text-align: left;\">\n",
    "</div>\n",
    "\n",
    "# Parent Gauge Data Analysis Project\n",
    "---\n",
    "## Qualitative Analyis/Interview Analysis with Machine Learning\n",
    "\n",
    "Qualitative Analyis/Interview Analysis with Machine Learning"
   ]
  },
  {
   "cell_type": "code",
   "execution_count": 10,
   "id": "f12fdb4b",
   "metadata": {},
   "outputs": [],
   "source": [
    "#import necessary libraries for machine learning and natural language processing\n",
    "import pandas as pd\n",
    "import numpy as np\n",
    "from sklearn.feature_extraction.text import TfidfVectorizer\n",
    "\n",
    "#https://pub.towardsai.net/natural-language-processing-nlp-with-python-tutorial-for-beginners-1f54e610a1a0\n",
    "#https://towardsdatascience.com/your-guide-to-natural-language-processing-nlp-48ea2511f6e1"
   ]
  },
  {
   "cell_type": "code",
   "execution_count": 17,
   "id": "48713226-9e3e-415f-8462-db2a601a1284",
   "metadata": {},
   "outputs": [],
   "source": [
    "#read the .csv file\n",
    "df_sample = pd.read_csv('../data/sample_data.csv')"
   ]
  },
  {
   "cell_type": "code",
   "execution_count": 18,
   "id": "eca74d1b-2304-4dd0-81a6-0fe5a74c837f",
   "metadata": {},
   "outputs": [],
   "source": [
    "#additional cleaning\n",
    "# Drop rows with NaN values in 'OQ1' column\n",
    "df_clean = df_sample.dropna(subset=['OQ1'])"
   ]
  },
  {
   "cell_type": "code",
   "execution_count": 28,
   "id": "31e0c448-9c85-4f1f-b887-3ba3e2a29296",
   "metadata": {},
   "outputs": [
    {
     "name": "stdout",
     "output_type": "stream",
     "text": [
      "              Word  Average TF-IDF Score\n",
      "444           even              0.067094\n",
      "7792          boht              0.060273\n",
      "7893  communicarse              0.055491\n",
      "6456       paisley              0.048504\n",
      "5451       trenton              0.045892\n",
      "5197     delighted              0.041673\n",
      "7815      jaquelin              0.041153\n",
      "8495   expectation              0.038387\n",
      "671      parenting              0.036232\n",
      "3048   infromacion              0.034291\n"
     ]
    }
   ],
   "source": [
    "# Create a TfidfVectorizer object\n",
    "vectorizer = TfidfVectorizer()\n",
    "\n",
    "# Fit the vectorizer to the 'OQ1' column\n",
    "tfidf_matrix = vectorizer.fit_transform(df_clean['OQ1'])\n",
    "\n",
    "# Get the feature names (words) from the vocabulary\n",
    "feature_names = vectorizer.vocabulary_.keys()\n",
    "\n",
    "# Calculate the average TF-IDF score for each word\n",
    "average_tfidf_scores = tfidf_matrix.mean(axis=0).A1\n",
    "\n",
    "# Create a DataFrame to store the word and its average TF-IDF score\n",
    "word_scores_df = pd.DataFrame({'Word': feature_names, 'Average TF-IDF Score': average_tfidf_scores})\n",
    "\n",
    "# Sort the DataFrame in descending order based on average TF-IDF scores\n",
    "word_scores_df = word_scores_df.sort_values(by='Average TF-IDF Score', ascending=False)\n",
    "\n",
    "# Print the top 10 most important words\n",
    "top_words = word_scores_df.head(10)\n",
    "print(top_words)\n"
   ]
  },
  {
   "cell_type": "code",
   "execution_count": 1,
   "id": "5ec5ddd0-4984-4e41-8633-1cbd4c51fa2a",
   "metadata": {},
   "outputs": [
    {
     "ename": "NameError",
     "evalue": "name 'TfidfVectorizer' is not defined",
     "output_type": "error",
     "traceback": [
      "\u001b[0;31m---------------------------------------------------------------------------\u001b[0m",
      "\u001b[0;31mNameError\u001b[0m                                 Traceback (most recent call last)",
      "Cell \u001b[0;32mIn[1], line 2\u001b[0m\n\u001b[1;32m      1\u001b[0m \u001b[38;5;66;03m# Create a TfidfVectorizer object\u001b[39;00m\n\u001b[0;32m----> 2\u001b[0m vectorizer \u001b[38;5;241m=\u001b[39m \u001b[43mTfidfVectorizer\u001b[49m()\n\u001b[1;32m      4\u001b[0m \u001b[38;5;66;03m# Fit the vectorizer to the 'OQ1' column\u001b[39;00m\n\u001b[1;32m      5\u001b[0m tfidf_matrix \u001b[38;5;241m=\u001b[39m vectorizer\u001b[38;5;241m.\u001b[39mfit_transform(df_clean[\u001b[38;5;124m'\u001b[39m\u001b[38;5;124mOQ1\u001b[39m\u001b[38;5;124m'\u001b[39m])\n",
      "\u001b[0;31mNameError\u001b[0m: name 'TfidfVectorizer' is not defined"
     ]
    }
   ],
   "source": [
    "# Create a TfidfVectorizer object\n",
    "vectorizer = TfidfVectorizer()\n",
    "\n",
    "# Fit the vectorizer to the 'OQ1' column\n",
    "tfidf_matrix = vectorizer.fit_transform(df_clean['OQ1'])\n",
    "\n",
    "# Get the feature names (words) from the vectorizer's vocabulary\n",
    "feature_names = vectorizer.get_feature_names()\n",
    "\n",
    "# Calculate the average TF-IDF score for each word\n",
    "average_tfidf_scores = np.mean(tfidf_matrix, axis=0).A1\n",
    "\n",
    "# Create a DataFrame to store the word and its average TF-IDF score\n",
    "word_scores_df = pd.DataFrame({'Word': feature_names, 'Average TF-IDF Score': average_tfidf_scores})\n",
    "\n",
    "# Sort the DataFrame in descending order based on average TF-IDF scores\n",
    "word_scores_df = word_scores_df.sort_values(by='Average TF-IDF Score', ascending=False)\n",
    "\n",
    "# Print the top 10 most important words\n",
    "top_words = word_scores_df.head(10)\n",
    "print(top_words)"
   ]
  }
 ],
 "metadata": {
  "kernelspec": {
   "display_name": "Python 3 (ipykernel)",
   "language": "python",
   "name": "python3"
  },
  "language_info": {
   "codemirror_mode": {
    "name": "ipython",
    "version": 3
   },
   "file_extension": ".py",
   "mimetype": "text/x-python",
   "name": "python",
   "nbconvert_exporter": "python",
   "pygments_lexer": "ipython3",
   "version": "3.11.4"
  }
 },
 "nbformat": 4,
 "nbformat_minor": 5
}
